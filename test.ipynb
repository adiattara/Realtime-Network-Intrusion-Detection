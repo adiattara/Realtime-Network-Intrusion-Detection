{
 "cells": [
  {
   "cell_type": "code",
   "id": "initial_id",
   "metadata": {
    "collapsed": true
   },
   "source": "import requests",
   "outputs": [],
   "execution_count": null
  },
  {
   "metadata": {
    "ExecuteTime": {
     "end_time": "2025-07-10T23:00:27.424246Z",
     "start_time": "2025-07-10T23:00:27.400248Z"
    }
   },
   "cell_type": "code",
   "source": [
    "import sqlite3\n",
    "import pandas as pd\n",
    "\n",
    "conn = sqlite3.connect('reported_flows.db')\n",
    "df = pd.read_sql_query(\n",
    "    \"SELECT * FROM reported_flows ORDER BY reported_at DESC LIMIT 100\",\n",
    "    conn\n",
    ")\n",
    "conn.close()\n"
   ],
   "id": "89b09e2fb8ecabe4",
   "outputs": [],
   "execution_count": 10
  },
  {
   "metadata": {
    "ExecuteTime": {
     "end_time": "2025-07-10T23:00:28.126920Z",
     "start_time": "2025-07-10T23:00:28.106921Z"
    }
   },
   "cell_type": "code",
   "source": "df",
   "id": "635ef6fc47b423a8",
   "outputs": [
    {
     "data": {
      "text/plain": [
       "Empty DataFrame\n",
       "Columns: [id, flow_key, src_ip, dst_ip, sport, dport, protocol, total_bytes, pkt_count, prediction, label_humain, user_id, reported_at, flow_data]\n",
       "Index: []"
      ],
      "text/html": [
       "<div>\n",
       "<style scoped>\n",
       "    .dataframe tbody tr th:only-of-type {\n",
       "        vertical-align: middle;\n",
       "    }\n",
       "\n",
       "    .dataframe tbody tr th {\n",
       "        vertical-align: top;\n",
       "    }\n",
       "\n",
       "    .dataframe thead th {\n",
       "        text-align: right;\n",
       "    }\n",
       "</style>\n",
       "<table border=\"1\" class=\"dataframe\">\n",
       "  <thead>\n",
       "    <tr style=\"text-align: right;\">\n",
       "      <th></th>\n",
       "      <th>id</th>\n",
       "      <th>flow_key</th>\n",
       "      <th>src_ip</th>\n",
       "      <th>dst_ip</th>\n",
       "      <th>sport</th>\n",
       "      <th>dport</th>\n",
       "      <th>protocol</th>\n",
       "      <th>total_bytes</th>\n",
       "      <th>pkt_count</th>\n",
       "      <th>prediction</th>\n",
       "      <th>label_humain</th>\n",
       "      <th>user_id</th>\n",
       "      <th>reported_at</th>\n",
       "      <th>flow_data</th>\n",
       "    </tr>\n",
       "  </thead>\n",
       "  <tbody>\n",
       "  </tbody>\n",
       "</table>\n",
       "</div>"
      ]
     },
     "execution_count": 11,
     "metadata": {},
     "output_type": "execute_result"
    }
   ],
   "execution_count": 11
  },
  {
   "metadata": {},
   "cell_type": "code",
   "source": "print(df.flow_data.values[0])",
   "id": "5c59828ea3a5687c",
   "outputs": [],
   "execution_count": null
  },
  {
   "metadata": {},
   "cell_type": "code",
   "outputs": [],
   "execution_count": null,
   "source": [
    "# Flow: 172.30.0.7:36666 → 172.30.0.5:80 (TCP)\n",
    "# Flow: 172.30.0.7:36682 → 172.30.0.5:80 (TCP)\n",
    "# Flow: 172.30.0.7:36692 → 172.30.0.5:80 (TCP)\n",
    "# Flow: 172.30.0.7:51110 → 172.30.0.5:80 (TCP)\n",
    "# Flow: 172.30.0.7:51116 → 172.30.0.5:80 (TCP)\n",
    "# Flow: 172.30.0.7:51130 → 172.30.0.5:80 (TCP)\n"
   ],
   "id": "363cfe8d22e7d581"
  },
  {
   "metadata": {
    "ExecuteTime": {
     "end_time": "2025-07-11T18:40:56.273327Z",
     "start_time": "2025-07-11T18:40:55.627469Z"
    }
   },
   "cell_type": "code",
   "source": [
    "import sqlite3\n",
    "\n",
    "def recreate_reported_flows_table():\n",
    "    try:\n",
    "        conn = sqlite3.connect('reported_flows.db')\n",
    "        cursor = conn.cursor()\n",
    "\n",
    "        # Supprimer l'ancienne table\n",
    "        cursor.execute('DROP TABLE IF EXISTS reported_flows')\n",
    "\n",
    "        # Créer la nouvelle table\n",
    "        cursor.execute('''\n",
    "        CREATE TABLE reported_flows (\n",
    "            id INTEGER PRIMARY KEY AUTOINCREMENT,\n",
    "            flow_key TEXT,\n",
    "            src_ip TEXT,\n",
    "            dst_ip TEXT,\n",
    "            sport INTEGER,\n",
    "            dport INTEGER,\n",
    "            protocol TEXT,\n",
    "            total_bytes INTEGER,\n",
    "            pkt_count INTEGER,\n",
    "            prediction TEXT,\n",
    "            label_humain TEXT,\n",
    "            user_id INTEGER,\n",
    "            reported_at TIMESTAMP DEFAULT CURRENT_TIMESTAMP,\n",
    "            flow_data TEXT\n",
    "        )\n",
    "        ''')\n",
    "\n",
    "        conn.commit()\n",
    "        conn.close()\n",
    "        print(\"La table reported_flows a été recréée avec succès\")\n",
    "\n",
    "    except Exception as e:\n",
    "        print(f\"Erreur lors de la recréation de la table : {e}\")\n",
    "\n",
    "# Exécuter la fonction\n",
    "if __name__ == \"__main__\":\n",
    "    recreate_reported_flows_table()"
   ],
   "id": "1e78352164df1d64",
   "outputs": [
    {
     "name": "stdout",
     "output_type": "stream",
     "text": [
      "La table reported_flows a été recréée avec succès\n"
     ]
    }
   ],
   "execution_count": 1
  },
  {
   "metadata": {
    "ExecuteTime": {
     "end_time": "2025-07-10T23:05:09.089271Z",
     "start_time": "2025-07-10T23:05:09.063276Z"
    }
   },
   "cell_type": "code",
   "source": [
    "import json\n",
    "import pandas as pd\n",
    "import sqlite3\n",
    "\n",
    "\n",
    "conn = sqlite3.connect('reported_flows.db')\n",
    "\n",
    "df = pd.read_sql_query(\n",
    "    \"SELECT * FROM reported_flows ORDER BY reported_at DESC LIMIT 100\",\n",
    "    conn\n",
    ")\n",
    "feature_cols = [\n",
    "    \"total_bytes\",\n",
    "    \"pkt_count\",\n",
    "    \"psh_count\",\n",
    "    \"fwd_bytes\",\n",
    "    \"bwd_bytes\",\n",
    "    \"fwd_pkts\",\n",
    "    \"bwd_pkts\",\n",
    "    \"dport\",\n",
    "    \"duration_ms\",\n",
    "    \"flow_pkts_per_s\",\n",
    "    \"fwd_bwd_ratio\"\n",
    "]\n",
    "\n",
    "extracted_rows = []\n",
    "\n",
    "# Parcourir chaque ligne du DataFrame\n",
    "for idx, row in df.iterrows():\n",
    "    # Charger le JSON contenu dans flow_data\n",
    "    flow_dict = json.loads(row[\"flow_data\"])\n",
    "\n",
    "    # Extraire uniquement les champs souhaités\n",
    "    row_features = {\n",
    "        col: flow_dict.get(col, 0)\n",
    "        for col in feature_cols\n",
    "    }\n",
    "\n",
    "    # Inclure aussi label_humain (qui se trouve dans le DataFrame)\n",
    "    row_features[\"label_humain\"] = row[\"label_humain\"]\n",
    "\n",
    "    extracted_rows.append(row_features)\n",
    "\n",
    "# Créer un nouveau DataFrame avec les features + label_humain\n",
    "df_features = pd.DataFrame(extracted_rows)\n",
    "\n",
    "# Vérifier les premières lignes\n"
   ],
   "id": "dbdccccbcb3e75e3",
   "outputs": [],
   "execution_count": 12
  },
  {
   "metadata": {
    "ExecuteTime": {
     "end_time": "2025-07-10T23:05:10.123103Z",
     "start_time": "2025-07-10T23:05:10.106109Z"
    }
   },
   "cell_type": "code",
   "source": "df_features",
   "id": "2369c0afee7e2e48",
   "outputs": [
    {
     "data": {
      "text/plain": [
       "   total_bytes  pkt_count  psh_count  fwd_bytes  bwd_bytes  fwd_pkts  \\\n",
       "0          920         12          3         67        853         7   \n",
       "1          920         12          3         67        853         7   \n",
       "2          920         12          3         67        853         7   \n",
       "3          920         12          3         67        853         7   \n",
       "4          920         12          3         67        853         7   \n",
       "5          920         12          3         67        853         7   \n",
       "\n",
       "   bwd_pkts  dport  duration_ms  flow_pkts_per_s  fwd_bwd_ratio label_humain  \n",
       "0         5     80   731.973410        16.394038       0.078546       Normal  \n",
       "1         5     80    87.926865       136.477060       0.078546       Normal  \n",
       "2         5     80   107.424259       111.706612       0.078546       Normal  \n",
       "3         5     80    96.950531       123.774464       0.078546       Normal  \n",
       "4         5     80    95.770836       125.299105       0.078546       Normal  \n",
       "5         5     80   105.536699       113.704523       0.078546       Normal  "
      ],
      "text/html": [
       "<div>\n",
       "<style scoped>\n",
       "    .dataframe tbody tr th:only-of-type {\n",
       "        vertical-align: middle;\n",
       "    }\n",
       "\n",
       "    .dataframe tbody tr th {\n",
       "        vertical-align: top;\n",
       "    }\n",
       "\n",
       "    .dataframe thead th {\n",
       "        text-align: right;\n",
       "    }\n",
       "</style>\n",
       "<table border=\"1\" class=\"dataframe\">\n",
       "  <thead>\n",
       "    <tr style=\"text-align: right;\">\n",
       "      <th></th>\n",
       "      <th>total_bytes</th>\n",
       "      <th>pkt_count</th>\n",
       "      <th>psh_count</th>\n",
       "      <th>fwd_bytes</th>\n",
       "      <th>bwd_bytes</th>\n",
       "      <th>fwd_pkts</th>\n",
       "      <th>bwd_pkts</th>\n",
       "      <th>dport</th>\n",
       "      <th>duration_ms</th>\n",
       "      <th>flow_pkts_per_s</th>\n",
       "      <th>fwd_bwd_ratio</th>\n",
       "      <th>label_humain</th>\n",
       "    </tr>\n",
       "  </thead>\n",
       "  <tbody>\n",
       "    <tr>\n",
       "      <th>0</th>\n",
       "      <td>920</td>\n",
       "      <td>12</td>\n",
       "      <td>3</td>\n",
       "      <td>67</td>\n",
       "      <td>853</td>\n",
       "      <td>7</td>\n",
       "      <td>5</td>\n",
       "      <td>80</td>\n",
       "      <td>731.973410</td>\n",
       "      <td>16.394038</td>\n",
       "      <td>0.078546</td>\n",
       "      <td>Normal</td>\n",
       "    </tr>\n",
       "    <tr>\n",
       "      <th>1</th>\n",
       "      <td>920</td>\n",
       "      <td>12</td>\n",
       "      <td>3</td>\n",
       "      <td>67</td>\n",
       "      <td>853</td>\n",
       "      <td>7</td>\n",
       "      <td>5</td>\n",
       "      <td>80</td>\n",
       "      <td>87.926865</td>\n",
       "      <td>136.477060</td>\n",
       "      <td>0.078546</td>\n",
       "      <td>Normal</td>\n",
       "    </tr>\n",
       "    <tr>\n",
       "      <th>2</th>\n",
       "      <td>920</td>\n",
       "      <td>12</td>\n",
       "      <td>3</td>\n",
       "      <td>67</td>\n",
       "      <td>853</td>\n",
       "      <td>7</td>\n",
       "      <td>5</td>\n",
       "      <td>80</td>\n",
       "      <td>107.424259</td>\n",
       "      <td>111.706612</td>\n",
       "      <td>0.078546</td>\n",
       "      <td>Normal</td>\n",
       "    </tr>\n",
       "    <tr>\n",
       "      <th>3</th>\n",
       "      <td>920</td>\n",
       "      <td>12</td>\n",
       "      <td>3</td>\n",
       "      <td>67</td>\n",
       "      <td>853</td>\n",
       "      <td>7</td>\n",
       "      <td>5</td>\n",
       "      <td>80</td>\n",
       "      <td>96.950531</td>\n",
       "      <td>123.774464</td>\n",
       "      <td>0.078546</td>\n",
       "      <td>Normal</td>\n",
       "    </tr>\n",
       "    <tr>\n",
       "      <th>4</th>\n",
       "      <td>920</td>\n",
       "      <td>12</td>\n",
       "      <td>3</td>\n",
       "      <td>67</td>\n",
       "      <td>853</td>\n",
       "      <td>7</td>\n",
       "      <td>5</td>\n",
       "      <td>80</td>\n",
       "      <td>95.770836</td>\n",
       "      <td>125.299105</td>\n",
       "      <td>0.078546</td>\n",
       "      <td>Normal</td>\n",
       "    </tr>\n",
       "    <tr>\n",
       "      <th>5</th>\n",
       "      <td>920</td>\n",
       "      <td>12</td>\n",
       "      <td>3</td>\n",
       "      <td>67</td>\n",
       "      <td>853</td>\n",
       "      <td>7</td>\n",
       "      <td>5</td>\n",
       "      <td>80</td>\n",
       "      <td>105.536699</td>\n",
       "      <td>113.704523</td>\n",
       "      <td>0.078546</td>\n",
       "      <td>Normal</td>\n",
       "    </tr>\n",
       "  </tbody>\n",
       "</table>\n",
       "</div>"
      ]
     },
     "execution_count": 13,
     "metadata": {},
     "output_type": "execute_result"
    }
   ],
   "execution_count": 13
  },
  {
   "metadata": {
    "ExecuteTime": {
     "end_time": "2025-07-10T22:55:28.083331Z",
     "start_time": "2025-07-10T22:55:28.069332Z"
    }
   },
   "cell_type": "code",
   "source": "df_features.columns",
   "id": "e40734ed4cb55461",
   "outputs": [
    {
     "data": {
      "text/plain": [
       "Index(['total_bytes', 'pkt_count', 'psh_count', 'fwd_bytes', 'bwd_bytes',\n",
       "       'fwd_pkts', 'bwd_pkts', 'dport', 'duration_ms', 'flow_pkts_per_s',\n",
       "       'fwd_bwd_ratio', 'label_humain'],\n",
       "      dtype='object')"
      ]
     },
     "execution_count": 4,
     "metadata": {},
     "output_type": "execute_result"
    }
   ],
   "execution_count": 4
  },
  {
   "metadata": {},
   "cell_type": "code",
   "outputs": [],
   "execution_count": null,
   "source": "",
   "id": "cfdc133f3bb1cd8f"
  }
 ],
 "metadata": {
  "kernelspec": {
   "display_name": "Python 3",
   "language": "python",
   "name": "python3"
  },
  "language_info": {
   "codemirror_mode": {
    "name": "ipython",
    "version": 2
   },
   "file_extension": ".py",
   "mimetype": "text/x-python",
   "name": "python",
   "nbconvert_exporter": "python",
   "pygments_lexer": "ipython2",
   "version": "2.7.6"
  }
 },
 "nbformat": 4,
 "nbformat_minor": 5
}
