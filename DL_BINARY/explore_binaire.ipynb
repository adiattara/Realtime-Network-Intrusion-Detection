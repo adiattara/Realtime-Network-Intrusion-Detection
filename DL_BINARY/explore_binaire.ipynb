{
 "cells": [
  {
   "metadata": {
    "ExecuteTime": {
     "end_time": "2025-06-14T12:16:27.529810Z",
     "start_time": "2025-06-14T12:16:27.290027Z"
    }
   },
   "cell_type": "code",
   "source": [
    "import numpy as np\n",
    "import pandas as pd\n",
    "import os\n",
    "from imblearn.over_sampling import SMOTE"
   ],
   "id": "5513e002eb8186bd",
   "outputs": [],
   "execution_count": 1
  },
  {
   "metadata": {
    "ExecuteTime": {
     "end_time": "2025-06-14T12:16:28.652486Z",
     "start_time": "2025-06-14T12:16:28.473799Z"
    }
   },
   "cell_type": "code",
   "source": [
    "# Chemins des répertoires\n",
    "normal_repo = '/Users/khaled/PA/Data/normal'\n",
    "anomalous_repo = '/Users/khaled/PA/Data/anormal'\n",
    "\n",
    "def verifier_fichiers(repo):\n",
    "    rapport = []\n",
    "    for fichier in os.listdir(repo):\n",
    "        if fichier.endswith('.csv'):\n",
    "            chemin_fichier = os.path.join(repo, fichier)\n",
    "            try:\n",
    "                # Charger le fichier\n",
    "                data = pd.read_csv(chemin_fichier)\n",
    "\n",
    "                # Vérifications\n",
    "                valeurs_manquantes = data.isnull().sum().sum()\n",
    "                types_incorrects = any(data.dtypes == object)  # Vérifie si des colonnes numériques ont des types incorrects\n",
    "                colonnes = data.columns.tolist()\n",
    "\n",
    "                rapport.append({\n",
    "                    'fichier': fichier,\n",
    "                    'valeurs_manquantes': valeurs_manquantes,\n",
    "                    'types_incorrects': types_incorrects,\n",
    "                    'colonnes': colonnes\n",
    "                })\n",
    "            except Exception as e:\n",
    "                rapport.append({'fichier': fichier, 'erreur': str(e)})\n",
    "    return rapport\n",
    "\n",
    "# Vérification des deux répertoires\n",
    "rapport_normal = verifier_fichiers(normal_repo)\n",
    "rapport_anormal = verifier_fichiers(anomalous_repo)\n",
    "\n",
    "# Afficher les rapports\n",
    "print(\"Rapport pour le traffic normal:\")\n",
    "for r in rapport_normal:\n",
    "    print(r)\n",
    "\n",
    "print(\"\\nRapport pour le traffic anormal:\")\n",
    "for r in rapport_anormal:\n",
    "    print(r)"
   ],
   "id": "2b5f4007f385fd9e",
   "outputs": [
    {
     "name": "stdout",
     "output_type": "stream",
     "text": [
      "Rapport pour le traffic normal:\n",
      "{'fichier': 'part-00000-4b44f1bf-6ef8-4709-9b96-7fd0e97a8c59-c000.csv', 'valeurs_manquantes': np.int64(0), 'types_incorrects': True, 'colonnes': ['flow_key', 'start_ts', 'end_ts', 'total_bytes', 'pkt_count', 'psh_count', 'urg_count', 'fwd_bytes', 'bwd_bytes', 'fwd_pkts', 'bwd_pkts', 'dport', 'attack', 'duration_ms', 'flow_pkts_per_s', 'fwd_bwd_ratio', 'window_start', 'window_end']}\n",
      "{'fichier': 'part-00000-28589e4c-32f8-487d-829c-7605ea91b2dc-c000.csv', 'valeurs_manquantes': np.int64(0), 'types_incorrects': True, 'colonnes': ['flow_key', 'start_ts', 'end_ts', 'total_bytes', 'pkt_count', 'psh_count', 'urg_count', 'fwd_bytes', 'bwd_bytes', 'fwd_pkts', 'bwd_pkts', 'dport', 'attack', 'duration_ms', 'flow_pkts_per_s', 'fwd_bwd_ratio', 'window_start', 'window_end']}\n",
      "{'fichier': 'part-00000-f5d3e4d0-c43a-4833-a340-79b820b6909e-c000.csv', 'valeurs_manquantes': np.int64(0), 'types_incorrects': True, 'colonnes': ['flow_key', 'start_ts', 'end_ts', 'total_bytes', 'pkt_count', 'psh_count', 'urg_count', 'fwd_bytes', 'bwd_bytes', 'fwd_pkts', 'bwd_pkts', 'dport', 'attack', 'duration_ms', 'flow_pkts_per_s', 'fwd_bwd_ratio', 'window_start', 'window_end']}\n",
      "{'fichier': 'part-00000-d0ad9af8-d9e2-44af-ba7a-00d025b00fe3-c000.csv', 'valeurs_manquantes': np.int64(0), 'types_incorrects': True, 'colonnes': ['flow_key', 'start_ts', 'end_ts', 'total_bytes', 'pkt_count', 'psh_count', 'urg_count', 'fwd_bytes', 'bwd_bytes', 'fwd_pkts', 'bwd_pkts', 'dport', 'attack', 'duration_ms', 'flow_pkts_per_s', 'fwd_bwd_ratio', 'window_start', 'window_end']}\n",
      "{'fichier': 'part-00000-9523ad6b-8240-4825-a277-1f029aabc9d5-c000.csv', 'valeurs_manquantes': np.int64(0), 'types_incorrects': True, 'colonnes': ['flow_key', 'start_ts', 'end_ts', 'total_bytes', 'pkt_count', 'psh_count', 'urg_count', 'fwd_bytes', 'bwd_bytes', 'fwd_pkts', 'bwd_pkts', 'dport', 'attack', 'duration_ms', 'flow_pkts_per_s', 'fwd_bwd_ratio', 'window_start', 'window_end']}\n",
      "{'fichier': 'part-00000-517e449f-e730-4e61-aa1d-f9607e175876-c000.csv', 'valeurs_manquantes': np.int64(0), 'types_incorrects': True, 'colonnes': ['flow_key', 'start_ts', 'end_ts', 'total_bytes', 'pkt_count', 'psh_count', 'urg_count', 'fwd_bytes', 'bwd_bytes', 'fwd_pkts', 'bwd_pkts', 'dport', 'attack', 'duration_ms', 'flow_pkts_per_s', 'fwd_bwd_ratio', 'window_start', 'window_end']}\n",
      "{'fichier': 'part-00000-bf28c95a-fe4c-48c4-b19c-ac3a92b237e5-c000.csv', 'valeurs_manquantes': np.int64(0), 'types_incorrects': True, 'colonnes': ['flow_key', 'start_ts', 'end_ts', 'total_bytes', 'pkt_count', 'psh_count', 'urg_count', 'fwd_bytes', 'bwd_bytes', 'fwd_pkts', 'bwd_pkts', 'dport', 'attack', 'duration_ms', 'flow_pkts_per_s', 'fwd_bwd_ratio', 'window_start', 'window_end']}\n",
      "{'fichier': 'part-00000-ffc81c6e-c292-4a24-adb1-cd28a8821243-c000.csv', 'valeurs_manquantes': np.int64(0), 'types_incorrects': True, 'colonnes': ['flow_key', 'start_ts', 'end_ts', 'total_bytes', 'pkt_count', 'psh_count', 'urg_count', 'fwd_bytes', 'bwd_bytes', 'fwd_pkts', 'bwd_pkts', 'dport', 'attack', 'duration_ms', 'flow_pkts_per_s', 'fwd_bwd_ratio', 'window_start', 'window_end']}\n",
      "{'fichier': 'part-00000-f4f67599-902b-455c-af86-ef6a685fb8c4-c000.csv', 'valeurs_manquantes': np.int64(0), 'types_incorrects': True, 'colonnes': ['flow_key', 'start_ts', 'end_ts', 'total_bytes', 'pkt_count', 'psh_count', 'urg_count', 'fwd_bytes', 'bwd_bytes', 'fwd_pkts', 'bwd_pkts', 'dport', 'attack', 'duration_ms', 'flow_pkts_per_s', 'fwd_bwd_ratio', 'window_start', 'window_end']}\n",
      "{'fichier': 'part-00000-e1743fde-623d-4a39-923a-47a71900bf99-c000.csv', 'valeurs_manquantes': np.int64(0), 'types_incorrects': True, 'colonnes': ['flow_key', 'start_ts', 'end_ts', 'total_bytes', 'pkt_count', 'psh_count', 'urg_count', 'fwd_bytes', 'bwd_bytes', 'fwd_pkts', 'bwd_pkts', 'dport', 'attack', 'duration_ms', 'flow_pkts_per_s', 'fwd_bwd_ratio', 'window_start', 'window_end']}\n",
      "{'fichier': 'part-00000-7b01b0bd-9df3-41e0-80d8-01547ab9fefc-c000.csv', 'valeurs_manquantes': np.int64(0), 'types_incorrects': True, 'colonnes': ['flow_key', 'start_ts', 'end_ts', 'total_bytes', 'pkt_count', 'psh_count', 'urg_count', 'fwd_bytes', 'bwd_bytes', 'fwd_pkts', 'bwd_pkts', 'dport', 'attack', 'duration_ms', 'flow_pkts_per_s', 'fwd_bwd_ratio', 'window_start', 'window_end']}\n",
      "{'fichier': 'part-00000-dbbb472c-7232-4180-a264-92aa16981e4b-c000.csv', 'valeurs_manquantes': np.int64(0), 'types_incorrects': True, 'colonnes': ['flow_key', 'start_ts', 'end_ts', 'total_bytes', 'pkt_count', 'psh_count', 'urg_count', 'fwd_bytes', 'bwd_bytes', 'fwd_pkts', 'bwd_pkts', 'dport', 'attack', 'duration_ms', 'flow_pkts_per_s', 'fwd_bwd_ratio', 'window_start', 'window_end']}\n",
      "{'fichier': 'part-00000-bb22eac8-3f7b-4e92-a4e2-71016bd70d3c-c000.csv', 'valeurs_manquantes': np.int64(0), 'types_incorrects': True, 'colonnes': ['flow_key', 'start_ts', 'end_ts', 'total_bytes', 'pkt_count', 'psh_count', 'urg_count', 'fwd_bytes', 'bwd_bytes', 'fwd_pkts', 'bwd_pkts', 'dport', 'attack', 'duration_ms', 'flow_pkts_per_s', 'fwd_bwd_ratio', 'window_start', 'window_end']}\n",
      "{'fichier': 'part-00000-22c40125-809b-449b-85c1-25e7149cc310-c000.csv', 'valeurs_manquantes': np.int64(0), 'types_incorrects': True, 'colonnes': ['flow_key', 'start_ts', 'end_ts', 'total_bytes', 'pkt_count', 'psh_count', 'urg_count', 'fwd_bytes', 'bwd_bytes', 'fwd_pkts', 'bwd_pkts', 'dport', 'attack', 'duration_ms', 'flow_pkts_per_s', 'fwd_bwd_ratio', 'window_start', 'window_end']}\n",
      "{'fichier': 'part-00000-30fc926c-75b1-446d-80dd-78f7d2ab4c13-c000.csv', 'valeurs_manquantes': np.int64(0), 'types_incorrects': True, 'colonnes': ['flow_key', 'start_ts', 'end_ts', 'total_bytes', 'pkt_count', 'psh_count', 'urg_count', 'fwd_bytes', 'bwd_bytes', 'fwd_pkts', 'bwd_pkts', 'dport', 'attack', 'duration_ms', 'flow_pkts_per_s', 'fwd_bwd_ratio', 'window_start', 'window_end']}\n",
      "{'fichier': 'part-00000-595d0a84-51ae-4cb7-b9b5-8507d2a65b9a-c000.csv', 'valeurs_manquantes': np.int64(0), 'types_incorrects': True, 'colonnes': ['flow_key', 'start_ts', 'end_ts', 'total_bytes', 'pkt_count', 'psh_count', 'urg_count', 'fwd_bytes', 'bwd_bytes', 'fwd_pkts', 'bwd_pkts', 'dport', 'attack', 'duration_ms', 'flow_pkts_per_s', 'fwd_bwd_ratio', 'window_start', 'window_end']}\n",
      "{'fichier': 'part-00000-bc2cb1a3-2838-46dd-acf7-185e56af751d-c000.csv', 'valeurs_manquantes': np.int64(0), 'types_incorrects': True, 'colonnes': ['flow_key', 'start_ts', 'end_ts', 'total_bytes', 'pkt_count', 'psh_count', 'urg_count', 'fwd_bytes', 'bwd_bytes', 'fwd_pkts', 'bwd_pkts', 'dport', 'attack', 'duration_ms', 'flow_pkts_per_s', 'fwd_bwd_ratio', 'window_start', 'window_end']}\n",
      "{'fichier': 'part-00000-aac5d58c-a2f9-4998-8a92-ba5566fc7f04-c000.csv', 'valeurs_manquantes': np.int64(0), 'types_incorrects': True, 'colonnes': ['flow_key', 'start_ts', 'end_ts', 'total_bytes', 'pkt_count', 'psh_count', 'urg_count', 'fwd_bytes', 'bwd_bytes', 'fwd_pkts', 'bwd_pkts', 'dport', 'attack', 'duration_ms', 'flow_pkts_per_s', 'fwd_bwd_ratio', 'window_start', 'window_end']}\n",
      "{'fichier': 'part-00000-35026e17-a568-4e1d-ade9-19e9afe710a4-c000.csv', 'valeurs_manquantes': np.int64(0), 'types_incorrects': True, 'colonnes': ['flow_key', 'start_ts', 'end_ts', 'total_bytes', 'pkt_count', 'psh_count', 'urg_count', 'fwd_bytes', 'bwd_bytes', 'fwd_pkts', 'bwd_pkts', 'dport', 'attack', 'duration_ms', 'flow_pkts_per_s', 'fwd_bwd_ratio', 'window_start', 'window_end']}\n",
      "{'fichier': 'part-00000-110a0f87-3f79-4bc7-8a2a-8526b6b6252b-c000.csv', 'valeurs_manquantes': np.int64(0), 'types_incorrects': True, 'colonnes': ['flow_key', 'start_ts', 'end_ts', 'total_bytes', 'pkt_count', 'psh_count', 'urg_count', 'fwd_bytes', 'bwd_bytes', 'fwd_pkts', 'bwd_pkts', 'dport', 'attack', 'duration_ms', 'flow_pkts_per_s', 'fwd_bwd_ratio', 'window_start', 'window_end']}\n",
      "{'fichier': 'part-00000-35e608d8-dabe-4e27-8bbb-7b7d074a5bcd-c000.csv', 'valeurs_manquantes': np.int64(0), 'types_incorrects': True, 'colonnes': ['flow_key', 'start_ts', 'end_ts', 'total_bytes', 'pkt_count', 'psh_count', 'urg_count', 'fwd_bytes', 'bwd_bytes', 'fwd_pkts', 'bwd_pkts', 'dport', 'attack', 'duration_ms', 'flow_pkts_per_s', 'fwd_bwd_ratio', 'window_start', 'window_end']}\n",
      "{'fichier': 'part-00000-deaf6885-a1f1-47f1-afea-347ef24582ad-c000.csv', 'valeurs_manquantes': np.int64(0), 'types_incorrects': True, 'colonnes': ['flow_key', 'start_ts', 'end_ts', 'total_bytes', 'pkt_count', 'psh_count', 'urg_count', 'fwd_bytes', 'bwd_bytes', 'fwd_pkts', 'bwd_pkts', 'dport', 'attack', 'duration_ms', 'flow_pkts_per_s', 'fwd_bwd_ratio', 'window_start', 'window_end']}\n",
      "{'fichier': 'part-00000-36cba2d4-b4db-4323-aa7c-bc1ff62adb41-c000.csv', 'valeurs_manquantes': np.int64(0), 'types_incorrects': True, 'colonnes': ['flow_key', 'start_ts', 'end_ts', 'total_bytes', 'pkt_count', 'psh_count', 'urg_count', 'fwd_bytes', 'bwd_bytes', 'fwd_pkts', 'bwd_pkts', 'dport', 'attack', 'duration_ms', 'flow_pkts_per_s', 'fwd_bwd_ratio', 'window_start', 'window_end']}\n",
      "{'fichier': 'part-00000-8f7cd9ae-2f45-4064-9d40-4a0f8cb2d0f7-c000.csv', 'valeurs_manquantes': np.int64(0), 'types_incorrects': True, 'colonnes': ['flow_key', 'start_ts', 'end_ts', 'total_bytes', 'pkt_count', 'psh_count', 'urg_count', 'fwd_bytes', 'bwd_bytes', 'fwd_pkts', 'bwd_pkts', 'dport', 'attack', 'duration_ms', 'flow_pkts_per_s', 'fwd_bwd_ratio', 'window_start', 'window_end']}\n",
      "{'fichier': 'part-00000-b5ae7fce-0570-49ab-82de-0f05f8a0b193-c000.csv', 'valeurs_manquantes': np.int64(0), 'types_incorrects': True, 'colonnes': ['flow_key', 'start_ts', 'end_ts', 'total_bytes', 'pkt_count', 'psh_count', 'urg_count', 'fwd_bytes', 'bwd_bytes', 'fwd_pkts', 'bwd_pkts', 'dport', 'attack', 'duration_ms', 'flow_pkts_per_s', 'fwd_bwd_ratio', 'window_start', 'window_end']}\n",
      "{'fichier': 'part-00000-23126455-57f7-441f-b74f-9df9edf57358-c000.csv', 'valeurs_manquantes': np.int64(0), 'types_incorrects': True, 'colonnes': ['flow_key', 'start_ts', 'end_ts', 'total_bytes', 'pkt_count', 'psh_count', 'urg_count', 'fwd_bytes', 'bwd_bytes', 'fwd_pkts', 'bwd_pkts', 'dport', 'attack', 'duration_ms', 'flow_pkts_per_s', 'fwd_bwd_ratio', 'window_start', 'window_end']}\n",
      "{'fichier': 'part-00000-2bea86c7-d2c3-4cee-afbe-1c629246ce7c-c000.csv', 'valeurs_manquantes': np.int64(0), 'types_incorrects': True, 'colonnes': ['flow_key', 'start_ts', 'end_ts', 'total_bytes', 'pkt_count', 'psh_count', 'urg_count', 'fwd_bytes', 'bwd_bytes', 'fwd_pkts', 'bwd_pkts', 'dport', 'attack', 'duration_ms', 'flow_pkts_per_s', 'fwd_bwd_ratio', 'window_start', 'window_end']}\n",
      "{'fichier': 'part-00000-95d11d75-5c40-4b60-b811-ca60942b564b-c000.csv', 'valeurs_manquantes': np.int64(0), 'types_incorrects': True, 'colonnes': ['flow_key', 'start_ts', 'end_ts', 'total_bytes', 'pkt_count', 'psh_count', 'urg_count', 'fwd_bytes', 'bwd_bytes', 'fwd_pkts', 'bwd_pkts', 'dport', 'attack', 'duration_ms', 'flow_pkts_per_s', 'fwd_bwd_ratio', 'window_start', 'window_end']}\n",
      "{'fichier': 'part-00000-5c83a822-4dc0-45fa-87c3-5f73911991fa-c000.csv', 'valeurs_manquantes': np.int64(0), 'types_incorrects': True, 'colonnes': ['flow_key', 'start_ts', 'end_ts', 'total_bytes', 'pkt_count', 'psh_count', 'urg_count', 'fwd_bytes', 'bwd_bytes', 'fwd_pkts', 'bwd_pkts', 'dport', 'attack', 'duration_ms', 'flow_pkts_per_s', 'fwd_bwd_ratio', 'window_start', 'window_end']}\n",
      "{'fichier': 'part-00000-8ff70086-0121-48a6-9843-f2dc9ecf15e6-c000.csv', 'valeurs_manquantes': np.int64(0), 'types_incorrects': True, 'colonnes': ['flow_key', 'start_ts', 'end_ts', 'total_bytes', 'pkt_count', 'psh_count', 'urg_count', 'fwd_bytes', 'bwd_bytes', 'fwd_pkts', 'bwd_pkts', 'dport', 'attack', 'duration_ms', 'flow_pkts_per_s', 'fwd_bwd_ratio', 'window_start', 'window_end']}\n",
      "{'fichier': 'part-00000-babcab45-b241-4134-8b05-bc2bfce3ab22-c000.csv', 'valeurs_manquantes': np.int64(0), 'types_incorrects': True, 'colonnes': ['flow_key', 'start_ts', 'end_ts', 'total_bytes', 'pkt_count', 'psh_count', 'urg_count', 'fwd_bytes', 'bwd_bytes', 'fwd_pkts', 'bwd_pkts', 'dport', 'attack', 'duration_ms', 'flow_pkts_per_s', 'fwd_bwd_ratio', 'window_start', 'window_end']}\n",
      "{'fichier': 'part-00000-91d0be07-2801-47bd-8db7-626ba797b5e4-c000.csv', 'valeurs_manquantes': np.int64(0), 'types_incorrects': True, 'colonnes': ['flow_key', 'start_ts', 'end_ts', 'total_bytes', 'pkt_count', 'psh_count', 'urg_count', 'fwd_bytes', 'bwd_bytes', 'fwd_pkts', 'bwd_pkts', 'dport', 'attack', 'duration_ms', 'flow_pkts_per_s', 'fwd_bwd_ratio', 'window_start', 'window_end']}\n",
      "{'fichier': 'part-00000-3c699162-0dac-4370-a4aa-86580e4a2a5d-c000.csv', 'valeurs_manquantes': np.int64(0), 'types_incorrects': True, 'colonnes': ['flow_key', 'start_ts', 'end_ts', 'total_bytes', 'pkt_count', 'psh_count', 'urg_count', 'fwd_bytes', 'bwd_bytes', 'fwd_pkts', 'bwd_pkts', 'dport', 'attack', 'duration_ms', 'flow_pkts_per_s', 'fwd_bwd_ratio', 'window_start', 'window_end']}\n",
      "{'fichier': 'part-00000-9fb08183-c7a7-4f5b-b91c-7ae0fafa54d4-c000.csv', 'valeurs_manquantes': np.int64(0), 'types_incorrects': True, 'colonnes': ['flow_key', 'start_ts', 'end_ts', 'total_bytes', 'pkt_count', 'psh_count', 'urg_count', 'fwd_bytes', 'bwd_bytes', 'fwd_pkts', 'bwd_pkts', 'dport', 'attack', 'duration_ms', 'flow_pkts_per_s', 'fwd_bwd_ratio', 'window_start', 'window_end']}\n",
      "{'fichier': 'part-00000-f5f76ac1-a641-4b27-ae16-c57cd352c898-c000.csv', 'valeurs_manquantes': np.int64(0), 'types_incorrects': True, 'colonnes': ['flow_key', 'start_ts', 'end_ts', 'total_bytes', 'pkt_count', 'psh_count', 'urg_count', 'fwd_bytes', 'bwd_bytes', 'fwd_pkts', 'bwd_pkts', 'dport', 'attack', 'duration_ms', 'flow_pkts_per_s', 'fwd_bwd_ratio', 'window_start', 'window_end']}\n",
      "{'fichier': 'part-00000-179221cb-54e5-4c50-83cd-e364feb9c0b7-c000.csv', 'valeurs_manquantes': np.int64(0), 'types_incorrects': True, 'colonnes': ['flow_key', 'start_ts', 'end_ts', 'total_bytes', 'pkt_count', 'psh_count', 'urg_count', 'fwd_bytes', 'bwd_bytes', 'fwd_pkts', 'bwd_pkts', 'dport', 'attack', 'duration_ms', 'flow_pkts_per_s', 'fwd_bwd_ratio', 'window_start', 'window_end']}\n",
      "{'fichier': 'part-00000-6fc19015-5dc7-4221-928e-cc57381506da-c000.csv', 'valeurs_manquantes': np.int64(0), 'types_incorrects': True, 'colonnes': ['flow_key', 'start_ts', 'end_ts', 'total_bytes', 'pkt_count', 'psh_count', 'urg_count', 'fwd_bytes', 'bwd_bytes', 'fwd_pkts', 'bwd_pkts', 'dport', 'attack', 'duration_ms', 'flow_pkts_per_s', 'fwd_bwd_ratio', 'window_start', 'window_end']}\n",
      "{'fichier': 'part-00000-61493090-e898-486f-b240-7c26ba4e217d-c000.csv', 'valeurs_manquantes': np.int64(0), 'types_incorrects': True, 'colonnes': ['flow_key', 'start_ts', 'end_ts', 'total_bytes', 'pkt_count', 'psh_count', 'urg_count', 'fwd_bytes', 'bwd_bytes', 'fwd_pkts', 'bwd_pkts', 'dport', 'attack', 'duration_ms', 'flow_pkts_per_s', 'fwd_bwd_ratio', 'window_start', 'window_end']}\n",
      "{'fichier': 'part-00000-4988a7fd-f5c7-4ae0-9126-61bf7c39ef05-c000.csv', 'valeurs_manquantes': np.int64(0), 'types_incorrects': True, 'colonnes': ['flow_key', 'start_ts', 'end_ts', 'total_bytes', 'pkt_count', 'psh_count', 'urg_count', 'fwd_bytes', 'bwd_bytes', 'fwd_pkts', 'bwd_pkts', 'dport', 'attack', 'duration_ms', 'flow_pkts_per_s', 'fwd_bwd_ratio', 'window_start', 'window_end']}\n",
      "{'fichier': 'part-00000-b1ababdf-f892-4f29-a143-aadced89fb59-c000.csv', 'valeurs_manquantes': np.int64(0), 'types_incorrects': True, 'colonnes': ['flow_key', 'start_ts', 'end_ts', 'total_bytes', 'pkt_count', 'psh_count', 'urg_count', 'fwd_bytes', 'bwd_bytes', 'fwd_pkts', 'bwd_pkts', 'dport', 'attack', 'duration_ms', 'flow_pkts_per_s', 'fwd_bwd_ratio', 'window_start', 'window_end']}\n",
      "{'fichier': 'part-00000-f25e0815-9f92-4e4c-85ef-9dc901710429-c000.csv', 'valeurs_manquantes': np.int64(0), 'types_incorrects': True, 'colonnes': ['flow_key', 'start_ts', 'end_ts', 'total_bytes', 'pkt_count', 'psh_count', 'urg_count', 'fwd_bytes', 'bwd_bytes', 'fwd_pkts', 'bwd_pkts', 'dport', 'attack', 'duration_ms', 'flow_pkts_per_s', 'fwd_bwd_ratio', 'window_start', 'window_end']}\n",
      "{'fichier': 'part-00000-02c6bb3e-bc90-4bf9-a31d-96daf71379fc-c000.csv', 'valeurs_manquantes': np.int64(0), 'types_incorrects': True, 'colonnes': ['flow_key', 'start_ts', 'end_ts', 'total_bytes', 'pkt_count', 'psh_count', 'urg_count', 'fwd_bytes', 'bwd_bytes', 'fwd_pkts', 'bwd_pkts', 'dport', 'attack', 'duration_ms', 'flow_pkts_per_s', 'fwd_bwd_ratio', 'window_start', 'window_end']}\n",
      "{'fichier': 'part-00000-4e22c284-8f95-41dd-a668-dffdd03aa63b-c000.csv', 'valeurs_manquantes': np.int64(0), 'types_incorrects': True, 'colonnes': ['flow_key', 'start_ts', 'end_ts', 'total_bytes', 'pkt_count', 'psh_count', 'urg_count', 'fwd_bytes', 'bwd_bytes', 'fwd_pkts', 'bwd_pkts', 'dport', 'attack', 'duration_ms', 'flow_pkts_per_s', 'fwd_bwd_ratio', 'window_start', 'window_end']}\n",
      "{'fichier': 'part-00000-f3249fe4-5d2f-4679-a988-a92b42b1a3b3-c000.csv', 'valeurs_manquantes': np.int64(0), 'types_incorrects': True, 'colonnes': ['flow_key', 'start_ts', 'end_ts', 'total_bytes', 'pkt_count', 'psh_count', 'urg_count', 'fwd_bytes', 'bwd_bytes', 'fwd_pkts', 'bwd_pkts', 'dport', 'attack', 'duration_ms', 'flow_pkts_per_s', 'fwd_bwd_ratio', 'window_start', 'window_end']}\n",
      "{'fichier': 'part-00000-14ad9984-c2c7-4bc6-8a65-613ac72386a9-c000.csv', 'valeurs_manquantes': np.int64(0), 'types_incorrects': True, 'colonnes': ['flow_key', 'start_ts', 'end_ts', 'total_bytes', 'pkt_count', 'psh_count', 'urg_count', 'fwd_bytes', 'bwd_bytes', 'fwd_pkts', 'bwd_pkts', 'dport', 'attack', 'duration_ms', 'flow_pkts_per_s', 'fwd_bwd_ratio', 'window_start', 'window_end']}\n",
      "{'fichier': 'part-00000-4b7720d8-d822-4046-8f1f-7131e05cfb73-c000.csv', 'valeurs_manquantes': np.int64(0), 'types_incorrects': True, 'colonnes': ['flow_key', 'start_ts', 'end_ts', 'total_bytes', 'pkt_count', 'psh_count', 'urg_count', 'fwd_bytes', 'bwd_bytes', 'fwd_pkts', 'bwd_pkts', 'dport', 'attack', 'duration_ms', 'flow_pkts_per_s', 'fwd_bwd_ratio', 'window_start', 'window_end']}\n",
      "{'fichier': 'part-00000-5b9a4678-01e7-4f58-8116-0b069ec8a71c-c000.csv', 'valeurs_manquantes': np.int64(0), 'types_incorrects': True, 'colonnes': ['flow_key', 'start_ts', 'end_ts', 'total_bytes', 'pkt_count', 'psh_count', 'urg_count', 'fwd_bytes', 'bwd_bytes', 'fwd_pkts', 'bwd_pkts', 'dport', 'attack', 'duration_ms', 'flow_pkts_per_s', 'fwd_bwd_ratio', 'window_start', 'window_end']}\n",
      "{'fichier': 'part-00000-a34384af-6ffa-4924-a60e-d2be2067a552-c000.csv', 'valeurs_manquantes': np.int64(0), 'types_incorrects': True, 'colonnes': ['flow_key', 'start_ts', 'end_ts', 'total_bytes', 'pkt_count', 'psh_count', 'urg_count', 'fwd_bytes', 'bwd_bytes', 'fwd_pkts', 'bwd_pkts', 'dport', 'attack', 'duration_ms', 'flow_pkts_per_s', 'fwd_bwd_ratio', 'window_start', 'window_end']}\n",
      "{'fichier': 'part-00000-588c770e-8ca0-482b-93ac-d2a5b6aaf344-c000.csv', 'valeurs_manquantes': np.int64(0), 'types_incorrects': True, 'colonnes': ['flow_key', 'start_ts', 'end_ts', 'total_bytes', 'pkt_count', 'psh_count', 'urg_count', 'fwd_bytes', 'bwd_bytes', 'fwd_pkts', 'bwd_pkts', 'dport', 'attack', 'duration_ms', 'flow_pkts_per_s', 'fwd_bwd_ratio', 'window_start', 'window_end']}\n",
      "{'fichier': 'part-00000-f50fd18a-ced5-4e27-9464-6b25bc90addd-c000.csv', 'valeurs_manquantes': np.int64(0), 'types_incorrects': True, 'colonnes': ['flow_key', 'start_ts', 'end_ts', 'total_bytes', 'pkt_count', 'psh_count', 'urg_count', 'fwd_bytes', 'bwd_bytes', 'fwd_pkts', 'bwd_pkts', 'dport', 'attack', 'duration_ms', 'flow_pkts_per_s', 'fwd_bwd_ratio', 'window_start', 'window_end']}\n",
      "{'fichier': 'part-00000-4fc5c5d9-1e98-4a12-b4b5-903ed98765f7-c000.csv', 'valeurs_manquantes': np.int64(0), 'types_incorrects': True, 'colonnes': ['flow_key', 'start_ts', 'end_ts', 'total_bytes', 'pkt_count', 'psh_count', 'urg_count', 'fwd_bytes', 'bwd_bytes', 'fwd_pkts', 'bwd_pkts', 'dport', 'attack', 'duration_ms', 'flow_pkts_per_s', 'fwd_bwd_ratio', 'window_start', 'window_end']}\n",
      "{'fichier': 'part-00000-4b8066d3-639a-4e6c-a36d-31794ce42e55-c000.csv', 'valeurs_manquantes': np.int64(0), 'types_incorrects': True, 'colonnes': ['flow_key', 'start_ts', 'end_ts', 'total_bytes', 'pkt_count', 'psh_count', 'urg_count', 'fwd_bytes', 'bwd_bytes', 'fwd_pkts', 'bwd_pkts', 'dport', 'attack', 'duration_ms', 'flow_pkts_per_s', 'fwd_bwd_ratio', 'window_start', 'window_end']}\n",
      "{'fichier': 'part-00000-87bac1e9-7886-4c4a-886d-48ce1eecf00d-c000.csv', 'valeurs_manquantes': np.int64(0), 'types_incorrects': True, 'colonnes': ['flow_key', 'start_ts', 'end_ts', 'total_bytes', 'pkt_count', 'psh_count', 'urg_count', 'fwd_bytes', 'bwd_bytes', 'fwd_pkts', 'bwd_pkts', 'dport', 'attack', 'duration_ms', 'flow_pkts_per_s', 'fwd_bwd_ratio', 'window_start', 'window_end']}\n",
      "{'fichier': 'part-00000-349338a3-aafb-4e46-9465-4ba8b00c9e76-c000.csv', 'valeurs_manquantes': np.int64(0), 'types_incorrects': True, 'colonnes': ['flow_key', 'start_ts', 'end_ts', 'total_bytes', 'pkt_count', 'psh_count', 'urg_count', 'fwd_bytes', 'bwd_bytes', 'fwd_pkts', 'bwd_pkts', 'dport', 'attack', 'duration_ms', 'flow_pkts_per_s', 'fwd_bwd_ratio', 'window_start', 'window_end']}\n",
      "{'fichier': 'part-00000-2508b349-14d7-4adc-975a-e7f6449acdb7-c000.csv', 'valeurs_manquantes': np.int64(0), 'types_incorrects': True, 'colonnes': ['flow_key', 'start_ts', 'end_ts', 'total_bytes', 'pkt_count', 'psh_count', 'urg_count', 'fwd_bytes', 'bwd_bytes', 'fwd_pkts', 'bwd_pkts', 'dport', 'attack', 'duration_ms', 'flow_pkts_per_s', 'fwd_bwd_ratio', 'window_start', 'window_end']}\n",
      "{'fichier': 'part-00000-034a611e-c989-45be-a60e-2df247a6ee8f-c000.csv', 'valeurs_manquantes': np.int64(0), 'types_incorrects': True, 'colonnes': ['flow_key', 'start_ts', 'end_ts', 'total_bytes', 'pkt_count', 'psh_count', 'urg_count', 'fwd_bytes', 'bwd_bytes', 'fwd_pkts', 'bwd_pkts', 'dport', 'attack', 'duration_ms', 'flow_pkts_per_s', 'fwd_bwd_ratio', 'window_start', 'window_end']}\n",
      "{'fichier': 'part-00000-5295aa66-2ecd-470c-ab86-8bd1d40c1bd7-c000.csv', 'valeurs_manquantes': np.int64(0), 'types_incorrects': True, 'colonnes': ['flow_key', 'start_ts', 'end_ts', 'total_bytes', 'pkt_count', 'psh_count', 'urg_count', 'fwd_bytes', 'bwd_bytes', 'fwd_pkts', 'bwd_pkts', 'dport', 'attack', 'duration_ms', 'flow_pkts_per_s', 'fwd_bwd_ratio', 'window_start', 'window_end']}\n",
      "{'fichier': 'part-00000-b648cf94-f674-489e-b11f-b73cf6de6d88-c000.csv', 'valeurs_manquantes': np.int64(0), 'types_incorrects': True, 'colonnes': ['flow_key', 'start_ts', 'end_ts', 'total_bytes', 'pkt_count', 'psh_count', 'urg_count', 'fwd_bytes', 'bwd_bytes', 'fwd_pkts', 'bwd_pkts', 'dport', 'attack', 'duration_ms', 'flow_pkts_per_s', 'fwd_bwd_ratio', 'window_start', 'window_end']}\n",
      "{'fichier': 'part-00000-88dbdd6f-c561-41d3-b998-92bdc0e04fd3-c000.csv', 'valeurs_manquantes': np.int64(0), 'types_incorrects': True, 'colonnes': ['flow_key', 'start_ts', 'end_ts', 'total_bytes', 'pkt_count', 'psh_count', 'urg_count', 'fwd_bytes', 'bwd_bytes', 'fwd_pkts', 'bwd_pkts', 'dport', 'attack', 'duration_ms', 'flow_pkts_per_s', 'fwd_bwd_ratio', 'window_start', 'window_end']}\n",
      "\n",
      "Rapport pour le traffic anormal:\n",
      "{'fichier': 'part-00000-1a8b7cf1-ff16-4cd5-a490-8e83086bc7d6-c000.csv', 'valeurs_manquantes': np.int64(0), 'types_incorrects': True, 'colonnes': ['flow_key', 'start_ts', 'end_ts', 'total_bytes', 'pkt_count', 'psh_count', 'urg_count', 'fwd_bytes', 'bwd_bytes', 'fwd_pkts', 'bwd_pkts', 'dport', 'attack', 'duration_ms', 'flow_pkts_per_s', 'fwd_bwd_ratio', 'window_start', 'window_end']}\n",
      "{'fichier': 'part-00000-82af3ce6-c6bf-4e2c-a5e9-94e8494b6fb9-c000.csv', 'valeurs_manquantes': np.int64(0), 'types_incorrects': True, 'colonnes': ['flow_key', 'start_ts', 'end_ts', 'total_bytes', 'pkt_count', 'psh_count', 'urg_count', 'fwd_bytes', 'bwd_bytes', 'fwd_pkts', 'bwd_pkts', 'dport', 'attack', 'duration_ms', 'flow_pkts_per_s', 'fwd_bwd_ratio', 'window_start', 'window_end']}\n",
      "{'fichier': 'part-00000-301a11e4-b1c6-4c3d-8a1e-75fc59997e6b-c000.csv', 'valeurs_manquantes': np.int64(0), 'types_incorrects': True, 'colonnes': ['flow_key', 'start_ts', 'end_ts', 'total_bytes', 'pkt_count', 'psh_count', 'urg_count', 'fwd_bytes', 'bwd_bytes', 'fwd_pkts', 'bwd_pkts', 'dport', 'attack', 'duration_ms', 'flow_pkts_per_s', 'fwd_bwd_ratio', 'window_start', 'window_end']}\n",
      "{'fichier': 'part-00000-0c0a9f1e-455e-489b-a642-3f6922317eb8-c000.csv', 'valeurs_manquantes': np.int64(0), 'types_incorrects': True, 'colonnes': ['flow_key', 'start_ts', 'end_ts', 'total_bytes', 'pkt_count', 'psh_count', 'urg_count', 'fwd_bytes', 'bwd_bytes', 'fwd_pkts', 'bwd_pkts', 'dport', 'attack', 'duration_ms', 'flow_pkts_per_s', 'fwd_bwd_ratio', 'window_start', 'window_end']}\n",
      "{'fichier': 'part-00000-11713fb7-d4f2-40ce-806b-32966d3c52bc-c000.csv', 'valeurs_manquantes': np.int64(0), 'types_incorrects': True, 'colonnes': ['flow_key', 'start_ts', 'end_ts', 'total_bytes', 'pkt_count', 'psh_count', 'urg_count', 'fwd_bytes', 'bwd_bytes', 'fwd_pkts', 'bwd_pkts', 'dport', 'attack', 'duration_ms', 'flow_pkts_per_s', 'fwd_bwd_ratio', 'window_start', 'window_end']}\n",
      "{'fichier': 'part-00000-5cf5eab2-84a5-4540-a7c1-3bf2156adebc-c000.csv', 'valeurs_manquantes': np.int64(0), 'types_incorrects': True, 'colonnes': ['flow_key', 'start_ts', 'end_ts', 'total_bytes', 'pkt_count', 'psh_count', 'urg_count', 'fwd_bytes', 'bwd_bytes', 'fwd_pkts', 'bwd_pkts', 'dport', 'attack', 'duration_ms', 'flow_pkts_per_s', 'fwd_bwd_ratio', 'window_start', 'window_end']}\n",
      "{'fichier': 'part-00000-502d98dc-b613-410c-86e1-3c114cf38758-c000.csv', 'valeurs_manquantes': np.int64(0), 'types_incorrects': True, 'colonnes': ['flow_key', 'start_ts', 'end_ts', 'total_bytes', 'pkt_count', 'psh_count', 'urg_count', 'fwd_bytes', 'bwd_bytes', 'fwd_pkts', 'bwd_pkts', 'dport', 'attack', 'duration_ms', 'flow_pkts_per_s', 'fwd_bwd_ratio', 'window_start', 'window_end']}\n",
      "{'fichier': 'part-00000-3c9eee5f-c855-42d2-8fd7-97babea32d2b-c000.csv', 'valeurs_manquantes': np.int64(0), 'types_incorrects': True, 'colonnes': ['flow_key', 'start_ts', 'end_ts', 'total_bytes', 'pkt_count', 'psh_count', 'urg_count', 'fwd_bytes', 'bwd_bytes', 'fwd_pkts', 'bwd_pkts', 'dport', 'attack', 'duration_ms', 'flow_pkts_per_s', 'fwd_bwd_ratio', 'window_start', 'window_end']}\n",
      "{'fichier': 'part-00000-0abf59a2-086c-4da5-8491-21bb9b4b04b7-c000.csv', 'valeurs_manquantes': np.int64(0), 'types_incorrects': True, 'colonnes': ['flow_key', 'start_ts', 'end_ts', 'total_bytes', 'pkt_count', 'psh_count', 'urg_count', 'fwd_bytes', 'bwd_bytes', 'fwd_pkts', 'bwd_pkts', 'dport', 'attack', 'duration_ms', 'flow_pkts_per_s', 'fwd_bwd_ratio', 'window_start', 'window_end']}\n",
      "{'fichier': 'part-00000-1a63fbb5-b2d8-4e0f-97e9-80bf3cada20d-c000.csv', 'valeurs_manquantes': np.int64(0), 'types_incorrects': True, 'colonnes': ['flow_key', 'start_ts', 'end_ts', 'total_bytes', 'pkt_count', 'psh_count', 'urg_count', 'fwd_bytes', 'bwd_bytes', 'fwd_pkts', 'bwd_pkts', 'dport', 'attack', 'duration_ms', 'flow_pkts_per_s', 'fwd_bwd_ratio', 'window_start', 'window_end']}\n",
      "{'fichier': 'part-00000-24b2df20-76d3-4cbd-a30e-af4dcb439c83-c000.csv', 'valeurs_manquantes': np.int64(0), 'types_incorrects': True, 'colonnes': ['flow_key', 'start_ts', 'end_ts', 'total_bytes', 'pkt_count', 'psh_count', 'urg_count', 'fwd_bytes', 'bwd_bytes', 'fwd_pkts', 'bwd_pkts', 'dport', 'attack', 'duration_ms', 'flow_pkts_per_s', 'fwd_bwd_ratio', 'window_start', 'window_end']}\n",
      "{'fichier': 'part-00000-843c82ca-7e21-4618-98c9-1c2c8c748100-c000.csv', 'valeurs_manquantes': np.int64(0), 'types_incorrects': True, 'colonnes': ['flow_key', 'start_ts', 'end_ts', 'total_bytes', 'pkt_count', 'psh_count', 'urg_count', 'fwd_bytes', 'bwd_bytes', 'fwd_pkts', 'bwd_pkts', 'dport', 'attack', 'duration_ms', 'flow_pkts_per_s', 'fwd_bwd_ratio', 'window_start', 'window_end']}\n",
      "{'fichier': 'part-00000-c22968c9-89a2-4bbc-a298-77f9bfb556fb-c000.csv', 'valeurs_manquantes': np.int64(0), 'types_incorrects': True, 'colonnes': ['flow_key', 'start_ts', 'end_ts', 'total_bytes', 'pkt_count', 'psh_count', 'urg_count', 'fwd_bytes', 'bwd_bytes', 'fwd_pkts', 'bwd_pkts', 'dport', 'attack', 'duration_ms', 'flow_pkts_per_s', 'fwd_bwd_ratio', 'window_start', 'window_end']}\n",
      "{'fichier': 'part-00000-76084dee-1a53-4626-b559-fe79c9bea61c-c000.csv', 'valeurs_manquantes': np.int64(0), 'types_incorrects': True, 'colonnes': ['flow_key', 'start_ts', 'end_ts', 'total_bytes', 'pkt_count', 'psh_count', 'urg_count', 'fwd_bytes', 'bwd_bytes', 'fwd_pkts', 'bwd_pkts', 'dport', 'attack', 'duration_ms', 'flow_pkts_per_s', 'fwd_bwd_ratio', 'window_start', 'window_end']}\n",
      "{'fichier': 'part-00000-d691ac72-c372-489e-aae8-a1c6b488cadf-c000.csv', 'valeurs_manquantes': np.int64(0), 'types_incorrects': True, 'colonnes': ['flow_key', 'start_ts', 'end_ts', 'total_bytes', 'pkt_count', 'psh_count', 'urg_count', 'fwd_bytes', 'bwd_bytes', 'fwd_pkts', 'bwd_pkts', 'dport', 'attack', 'duration_ms', 'flow_pkts_per_s', 'fwd_bwd_ratio', 'window_start', 'window_end']}\n",
      "{'fichier': 'part-00000-596ceeae-38da-4559-8c42-957fb734315a-c000.csv', 'valeurs_manquantes': np.int64(0), 'types_incorrects': True, 'colonnes': ['flow_key', 'start_ts', 'end_ts', 'total_bytes', 'pkt_count', 'psh_count', 'urg_count', 'fwd_bytes', 'bwd_bytes', 'fwd_pkts', 'bwd_pkts', 'dport', 'attack', 'duration_ms', 'flow_pkts_per_s', 'fwd_bwd_ratio', 'window_start', 'window_end']}\n",
      "{'fichier': 'part-00000-520b1176-fcf7-45fd-a303-0e2d40720557-c000.csv', 'valeurs_manquantes': np.int64(0), 'types_incorrects': True, 'colonnes': ['flow_key', 'start_ts', 'end_ts', 'total_bytes', 'pkt_count', 'psh_count', 'urg_count', 'fwd_bytes', 'bwd_bytes', 'fwd_pkts', 'bwd_pkts', 'dport', 'attack', 'duration_ms', 'flow_pkts_per_s', 'fwd_bwd_ratio', 'window_start', 'window_end']}\n",
      "{'fichier': 'part-00000-9ec3e46e-becb-4430-822f-95df5aa7dcd1-c000.csv', 'valeurs_manquantes': np.int64(0), 'types_incorrects': True, 'colonnes': ['flow_key', 'start_ts', 'end_ts', 'total_bytes', 'pkt_count', 'psh_count', 'urg_count', 'fwd_bytes', 'bwd_bytes', 'fwd_pkts', 'bwd_pkts', 'dport', 'attack', 'duration_ms', 'flow_pkts_per_s', 'fwd_bwd_ratio', 'window_start', 'window_end']}\n",
      "{'fichier': 'part-00000-81469209-4d4b-4eba-b8de-508306e6e3e6-c000.csv', 'valeurs_manquantes': np.int64(0), 'types_incorrects': True, 'colonnes': ['flow_key', 'start_ts', 'end_ts', 'total_bytes', 'pkt_count', 'psh_count', 'urg_count', 'fwd_bytes', 'bwd_bytes', 'fwd_pkts', 'bwd_pkts', 'dport', 'attack', 'duration_ms', 'flow_pkts_per_s', 'fwd_bwd_ratio', 'window_start', 'window_end']}\n",
      "{'fichier': 'part-00000-d0a14922-6730-40dc-958f-c447e1735027-c000.csv', 'valeurs_manquantes': np.int64(0), 'types_incorrects': True, 'colonnes': ['flow_key', 'start_ts', 'end_ts', 'total_bytes', 'pkt_count', 'psh_count', 'urg_count', 'fwd_bytes', 'bwd_bytes', 'fwd_pkts', 'bwd_pkts', 'dport', 'attack', 'duration_ms', 'flow_pkts_per_s', 'fwd_bwd_ratio', 'window_start', 'window_end']}\n",
      "{'fichier': 'part-00000-e4c883f4-7504-49a8-8e27-65e3d5309748-c000.csv', 'valeurs_manquantes': np.int64(0), 'types_incorrects': True, 'colonnes': ['flow_key', 'start_ts', 'end_ts', 'total_bytes', 'pkt_count', 'psh_count', 'urg_count', 'fwd_bytes', 'bwd_bytes', 'fwd_pkts', 'bwd_pkts', 'dport', 'attack', 'duration_ms', 'flow_pkts_per_s', 'fwd_bwd_ratio', 'window_start', 'window_end']}\n",
      "{'fichier': 'part-00000-86460670-b3c1-4681-bec9-3ac455b125ea-c000.csv', 'valeurs_manquantes': np.int64(0), 'types_incorrects': True, 'colonnes': ['flow_key', 'start_ts', 'end_ts', 'total_bytes', 'pkt_count', 'psh_count', 'urg_count', 'fwd_bytes', 'bwd_bytes', 'fwd_pkts', 'bwd_pkts', 'dport', 'attack', 'duration_ms', 'flow_pkts_per_s', 'fwd_bwd_ratio', 'window_start', 'window_end']}\n",
      "{'fichier': 'part-00000-d898b117-9fce-403b-8dcd-149b86ed33e1-c000.csv', 'valeurs_manquantes': np.int64(0), 'types_incorrects': True, 'colonnes': ['flow_key', 'start_ts', 'end_ts', 'total_bytes', 'pkt_count', 'psh_count', 'urg_count', 'fwd_bytes', 'bwd_bytes', 'fwd_pkts', 'bwd_pkts', 'dport', 'attack', 'duration_ms', 'flow_pkts_per_s', 'fwd_bwd_ratio', 'window_start', 'window_end']}\n",
      "{'fichier': 'part-00000-4abb03b3-fee8-44c5-b1ad-b64ed505a1e0-c000.csv', 'valeurs_manquantes': np.int64(0), 'types_incorrects': True, 'colonnes': ['flow_key', 'start_ts', 'end_ts', 'total_bytes', 'pkt_count', 'psh_count', 'urg_count', 'fwd_bytes', 'bwd_bytes', 'fwd_pkts', 'bwd_pkts', 'dport', 'attack', 'duration_ms', 'flow_pkts_per_s', 'fwd_bwd_ratio', 'window_start', 'window_end']}\n",
      "{'fichier': 'part-00000-7fa4f073-9463-47ae-90fa-6f38ef8a390b-c000.csv', 'valeurs_manquantes': np.int64(0), 'types_incorrects': True, 'colonnes': ['flow_key', 'start_ts', 'end_ts', 'total_bytes', 'pkt_count', 'psh_count', 'urg_count', 'fwd_bytes', 'bwd_bytes', 'fwd_pkts', 'bwd_pkts', 'dport', 'attack', 'duration_ms', 'flow_pkts_per_s', 'fwd_bwd_ratio', 'window_start', 'window_end']}\n",
      "{'fichier': 'part-00000-ff492bbd-b289-4a7a-93b4-3cf1e958e314-c000.csv', 'valeurs_manquantes': np.int64(0), 'types_incorrects': True, 'colonnes': ['flow_key', 'start_ts', 'end_ts', 'total_bytes', 'pkt_count', 'psh_count', 'urg_count', 'fwd_bytes', 'bwd_bytes', 'fwd_pkts', 'bwd_pkts', 'dport', 'attack', 'duration_ms', 'flow_pkts_per_s', 'fwd_bwd_ratio', 'window_start', 'window_end']}\n",
      "{'fichier': 'part-00000-5a5b49c3-da2d-472d-a596-db448e4354fa-c000.csv', 'valeurs_manquantes': np.int64(0), 'types_incorrects': True, 'colonnes': ['flow_key', 'start_ts', 'end_ts', 'total_bytes', 'pkt_count', 'psh_count', 'urg_count', 'fwd_bytes', 'bwd_bytes', 'fwd_pkts', 'bwd_pkts', 'dport', 'attack', 'duration_ms', 'flow_pkts_per_s', 'fwd_bwd_ratio', 'window_start', 'window_end']}\n",
      "{'fichier': 'part-00000-23504b81-57f4-46a1-8630-c628407b308a-c000.csv', 'valeurs_manquantes': np.int64(0), 'types_incorrects': True, 'colonnes': ['flow_key', 'start_ts', 'end_ts', 'total_bytes', 'pkt_count', 'psh_count', 'urg_count', 'fwd_bytes', 'bwd_bytes', 'fwd_pkts', 'bwd_pkts', 'dport', 'attack', 'duration_ms', 'flow_pkts_per_s', 'fwd_bwd_ratio', 'window_start', 'window_end']}\n",
      "{'fichier': 'part-00000-ef7461c6-98a4-44e7-8020-509efda6f501-c000.csv', 'valeurs_manquantes': np.int64(0), 'types_incorrects': True, 'colonnes': ['flow_key', 'start_ts', 'end_ts', 'total_bytes', 'pkt_count', 'psh_count', 'urg_count', 'fwd_bytes', 'bwd_bytes', 'fwd_pkts', 'bwd_pkts', 'dport', 'attack', 'duration_ms', 'flow_pkts_per_s', 'fwd_bwd_ratio', 'window_start', 'window_end']}\n",
      "{'fichier': 'part-00000-b7617af9-59c0-4895-a3a8-13f071a5715d-c000.csv', 'valeurs_manquantes': np.int64(0), 'types_incorrects': True, 'colonnes': ['flow_key', 'start_ts', 'end_ts', 'total_bytes', 'pkt_count', 'psh_count', 'urg_count', 'fwd_bytes', 'bwd_bytes', 'fwd_pkts', 'bwd_pkts', 'dport', 'attack', 'duration_ms', 'flow_pkts_per_s', 'fwd_bwd_ratio', 'window_start', 'window_end']}\n",
      "{'fichier': 'part-00000-77bee66e-b00c-4da0-b968-a68691656914-c000.csv', 'valeurs_manquantes': np.int64(0), 'types_incorrects': True, 'colonnes': ['flow_key', 'start_ts', 'end_ts', 'total_bytes', 'pkt_count', 'psh_count', 'urg_count', 'fwd_bytes', 'bwd_bytes', 'fwd_pkts', 'bwd_pkts', 'dport', 'attack', 'duration_ms', 'flow_pkts_per_s', 'fwd_bwd_ratio', 'window_start', 'window_end']}\n",
      "{'fichier': 'part-00000-a3795e88-8a72-4fa2-9a1d-e710479d0192-c000.csv', 'valeurs_manquantes': np.int64(0), 'types_incorrects': True, 'colonnes': ['flow_key', 'start_ts', 'end_ts', 'total_bytes', 'pkt_count', 'psh_count', 'urg_count', 'fwd_bytes', 'bwd_bytes', 'fwd_pkts', 'bwd_pkts', 'dport', 'attack', 'duration_ms', 'flow_pkts_per_s', 'fwd_bwd_ratio', 'window_start', 'window_end']}\n",
      "{'fichier': 'part-00000-2ccfb583-1af9-4223-8739-fe89edd76ec6-c000.csv', 'valeurs_manquantes': np.int64(0), 'types_incorrects': True, 'colonnes': ['flow_key', 'start_ts', 'end_ts', 'total_bytes', 'pkt_count', 'psh_count', 'urg_count', 'fwd_bytes', 'bwd_bytes', 'fwd_pkts', 'bwd_pkts', 'dport', 'attack', 'duration_ms', 'flow_pkts_per_s', 'fwd_bwd_ratio', 'window_start', 'window_end']}\n",
      "{'fichier': 'part-00000-470cf7bd-0fd8-4aef-86a6-fb9a65f0b23d-c000.csv', 'valeurs_manquantes': np.int64(0), 'types_incorrects': True, 'colonnes': ['flow_key', 'start_ts', 'end_ts', 'total_bytes', 'pkt_count', 'psh_count', 'urg_count', 'fwd_bytes', 'bwd_bytes', 'fwd_pkts', 'bwd_pkts', 'dport', 'attack', 'duration_ms', 'flow_pkts_per_s', 'fwd_bwd_ratio', 'window_start', 'window_end']}\n",
      "{'fichier': 'part-00000-d352a565-1409-428a-90c8-983d5289eee3-c000.csv', 'valeurs_manquantes': np.int64(0), 'types_incorrects': True, 'colonnes': ['flow_key', 'start_ts', 'end_ts', 'total_bytes', 'pkt_count', 'psh_count', 'urg_count', 'fwd_bytes', 'bwd_bytes', 'fwd_pkts', 'bwd_pkts', 'dport', 'attack', 'duration_ms', 'flow_pkts_per_s', 'fwd_bwd_ratio', 'window_start', 'window_end']}\n",
      "{'fichier': 'part-00000-2ccbc91c-0993-49a4-b33a-5cfe74b734c2-c000.csv', 'valeurs_manquantes': np.int64(0), 'types_incorrects': True, 'colonnes': ['flow_key', 'start_ts', 'end_ts', 'total_bytes', 'pkt_count', 'psh_count', 'urg_count', 'fwd_bytes', 'bwd_bytes', 'fwd_pkts', 'bwd_pkts', 'dport', 'attack', 'duration_ms', 'flow_pkts_per_s', 'fwd_bwd_ratio', 'window_start', 'window_end']}\n",
      "{'fichier': 'part-00000-77da3393-abb7-43f1-9237-9c2544895480-c000.csv', 'valeurs_manquantes': np.int64(0), 'types_incorrects': True, 'colonnes': ['flow_key', 'start_ts', 'end_ts', 'total_bytes', 'pkt_count', 'psh_count', 'urg_count', 'fwd_bytes', 'bwd_bytes', 'fwd_pkts', 'bwd_pkts', 'dport', 'attack', 'duration_ms', 'flow_pkts_per_s', 'fwd_bwd_ratio', 'window_start', 'window_end']}\n",
      "{'fichier': 'part-00000-9909f505-6956-4b27-86c5-b31498773d06-c000.csv', 'valeurs_manquantes': np.int64(0), 'types_incorrects': True, 'colonnes': ['flow_key', 'start_ts', 'end_ts', 'total_bytes', 'pkt_count', 'psh_count', 'urg_count', 'fwd_bytes', 'bwd_bytes', 'fwd_pkts', 'bwd_pkts', 'dport', 'attack', 'duration_ms', 'flow_pkts_per_s', 'fwd_bwd_ratio', 'window_start', 'window_end']}\n",
      "{'fichier': 'part-00000-4aedb3d1-a0e6-49c6-9f1a-7d45d0995e11-c000.csv', 'valeurs_manquantes': np.int64(0), 'types_incorrects': True, 'colonnes': ['flow_key', 'start_ts', 'end_ts', 'total_bytes', 'pkt_count', 'psh_count', 'urg_count', 'fwd_bytes', 'bwd_bytes', 'fwd_pkts', 'bwd_pkts', 'dport', 'attack', 'duration_ms', 'flow_pkts_per_s', 'fwd_bwd_ratio', 'window_start', 'window_end']}\n",
      "{'fichier': 'part-00000-b6fef791-03e6-42ab-8676-feb06a35e427-c000.csv', 'valeurs_manquantes': np.int64(0), 'types_incorrects': True, 'colonnes': ['flow_key', 'start_ts', 'end_ts', 'total_bytes', 'pkt_count', 'psh_count', 'urg_count', 'fwd_bytes', 'bwd_bytes', 'fwd_pkts', 'bwd_pkts', 'dport', 'attack', 'duration_ms', 'flow_pkts_per_s', 'fwd_bwd_ratio', 'window_start', 'window_end']}\n"
     ]
    }
   ],
   "execution_count": 2
  },
  {
   "metadata": {
    "ExecuteTime": {
     "end_time": "2025-06-14T12:16:29.808190Z",
     "start_time": "2025-06-14T12:16:29.621738Z"
    }
   },
   "cell_type": "code",
   "source": [
    "def charger_fichiers(repo):\n",
    "    dataframes = []\n",
    "    for fichier in os.listdir(repo):\n",
    "        if fichier.endswith('.csv'):\n",
    "            chemin_fichier = os.path.join(repo, fichier)\n",
    "            try:\n",
    "                # Charger le fichier\n",
    "                data = pd.read_csv(chemin_fichier)\n",
    "                dataframes.append(data)\n",
    "            except Exception as e:\n",
    "                print(f\"Erreur lors du chargement de {fichier}: {e}\")\n",
    "    return pd.concat(dataframes, ignore_index=True)\n",
    "\n",
    "# Charger et concaténer les données\n",
    "normal_data = charger_fichiers(normal_repo)\n",
    "anomalous_data = charger_fichiers(anomalous_repo)\n"
   ],
   "id": "9926cae1f6677269",
   "outputs": [
    {
     "name": "stderr",
     "output_type": "stream",
     "text": [
      "/var/folders/7h/ryb6h1gx2zv01ytw5bs043rw0000gp/T/ipykernel_74494/1360512867.py:12: FutureWarning: The behavior of DataFrame concatenation with empty or all-NA entries is deprecated. In a future version, this will no longer exclude empty or all-NA columns when determining the result dtypes. To retain the old behavior, exclude the relevant entries before the concat operation.\n",
      "  return pd.concat(dataframes, ignore_index=True)\n",
      "/var/folders/7h/ryb6h1gx2zv01ytw5bs043rw0000gp/T/ipykernel_74494/1360512867.py:12: FutureWarning: The behavior of DataFrame concatenation with empty or all-NA entries is deprecated. In a future version, this will no longer exclude empty or all-NA columns when determining the result dtypes. To retain the old behavior, exclude the relevant entries before the concat operation.\n",
      "  return pd.concat(dataframes, ignore_index=True)\n"
     ]
    }
   ],
   "execution_count": 3
  },
  {
   "metadata": {
    "ExecuteTime": {
     "end_time": "2025-06-14T12:16:30.958248Z",
     "start_time": "2025-06-14T12:16:30.955261Z"
    }
   },
   "cell_type": "code",
   "source": [
    "print(len(normal_data))\n",
    "print(len(anomalous_data))"
   ],
   "id": "738ad9bf88fd8ecf",
   "outputs": [
    {
     "name": "stdout",
     "output_type": "stream",
     "text": [
      "6287\n",
      "69350\n"
     ]
    }
   ],
   "execution_count": 4
  },
  {
   "metadata": {
    "ExecuteTime": {
     "end_time": "2025-06-14T12:17:05.279548Z",
     "start_time": "2025-06-14T12:17:05.232048Z"
    }
   },
   "cell_type": "code",
   "source": [
    "def verifier(data):\n",
    "    # Vérification des valeurs manquantes\n",
    "    valeurs_manquantes = data.isnull().sum()\n",
    "    print(\"Valeurs manquantes par colonne :\")\n",
    "    print(valeurs_manquantes)\n",
    "\n",
    "    # Vérification des types incorrects\n",
    "    print(\"\\nTypes des colonnes :\")\n",
    "    print(data.dtypes)\n",
    "\n",
    "    # Identification des colonnes numériques\n",
    "    colonnes_numeriques = data.select_dtypes(include=['float64', 'int64']).columns\n",
    "    print(\"\\nColonnes numériques :\")\n",
    "    print(colonnes_numeriques)\n",
    "\n",
    "print(\"Vérification des données normales :\")\n",
    "verifier(normal_data)\n",
    "print(\"\\nVérification des données anormales :\")\n",
    "verifier(anomalous_data)\n"
   ],
   "id": "2cf9060e8a136652",
   "outputs": [
    {
     "name": "stdout",
     "output_type": "stream",
     "text": [
      "Vérification des données normales :\n",
      "Valeurs manquantes par colonne :\n",
      "flow_key           0\n",
      "start_ts           0\n",
      "end_ts             0\n",
      "total_bytes        0\n",
      "pkt_count          0\n",
      "psh_count          0\n",
      "urg_count          0\n",
      "fwd_bytes          0\n",
      "bwd_bytes          0\n",
      "fwd_pkts           0\n",
      "bwd_pkts           0\n",
      "dport              0\n",
      "attack             0\n",
      "duration_ms        0\n",
      "flow_pkts_per_s    0\n",
      "fwd_bwd_ratio      0\n",
      "window_start       0\n",
      "window_end         0\n",
      "dtype: int64\n",
      "\n",
      "Types des colonnes :\n",
      "flow_key            object\n",
      "start_ts            object\n",
      "end_ts              object\n",
      "total_bytes         object\n",
      "pkt_count           object\n",
      "psh_count           object\n",
      "urg_count           object\n",
      "fwd_bytes           object\n",
      "bwd_bytes           object\n",
      "fwd_pkts            object\n",
      "bwd_pkts            object\n",
      "dport               object\n",
      "attack              object\n",
      "duration_ms        float64\n",
      "flow_pkts_per_s    float64\n",
      "fwd_bwd_ratio      float64\n",
      "window_start        object\n",
      "window_end          object\n",
      "dtype: object\n",
      "\n",
      "Colonnes numériques :\n",
      "Index(['duration_ms', 'flow_pkts_per_s', 'fwd_bwd_ratio'], dtype='object')\n",
      "\n",
      "Vérification des données anormales :\n",
      "Valeurs manquantes par colonne :\n",
      "flow_key           0\n",
      "start_ts           0\n",
      "end_ts             0\n",
      "total_bytes        0\n",
      "pkt_count          0\n",
      "psh_count          0\n",
      "urg_count          0\n",
      "fwd_bytes          0\n",
      "bwd_bytes          0\n",
      "fwd_pkts           0\n",
      "bwd_pkts           0\n",
      "dport              0\n",
      "attack             0\n",
      "duration_ms        0\n",
      "flow_pkts_per_s    0\n",
      "fwd_bwd_ratio      0\n",
      "window_start       0\n",
      "window_end         0\n",
      "dtype: int64\n",
      "\n",
      "Types des colonnes :\n",
      "flow_key            object\n",
      "start_ts            object\n",
      "end_ts              object\n",
      "total_bytes         object\n",
      "pkt_count           object\n",
      "psh_count           object\n",
      "urg_count           object\n",
      "fwd_bytes           object\n",
      "bwd_bytes           object\n",
      "fwd_pkts            object\n",
      "bwd_pkts            object\n",
      "dport               object\n",
      "attack              object\n",
      "duration_ms        float64\n",
      "flow_pkts_per_s    float64\n",
      "fwd_bwd_ratio      float64\n",
      "window_start        object\n",
      "window_end          object\n",
      "dtype: object\n",
      "\n",
      "Colonnes numériques :\n",
      "Index(['duration_ms', 'flow_pkts_per_s', 'fwd_bwd_ratio'], dtype='object')\n"
     ]
    }
   ],
   "execution_count": 5
  },
  {
   "metadata": {
    "ExecuteTime": {
     "end_time": "2025-06-14T12:17:12.310145Z",
     "start_time": "2025-06-14T12:17:12.019544Z"
    }
   },
   "cell_type": "code",
   "source": [
    "normal_data.to_csv(\"/Users/khaled/PA/Data/normal/normal_data.csv\")\n",
    "anomalous_data.to_csv(\"/Users/khaled/PA/Data/anormal/anomalous_data.csv\")"
   ],
   "id": "503bf939a958b56a",
   "outputs": [],
   "execution_count": 6
  },
  {
   "metadata": {},
   "cell_type": "markdown",
   "source": "✅ Étape 1 : Nettoyage + Préparation des données",
   "id": "7c95d6253f3a50f6"
  },
  {
   "metadata": {
    "ExecuteTime": {
     "end_time": "2025-06-14T12:17:15.321232Z",
     "start_time": "2025-06-14T12:17:14.736781Z"
    }
   },
   "cell_type": "code",
   "source": [
    "from sklearn.preprocessing import LabelEncoder\n",
    "\n",
    "# --- Étape 1 : Chargement des données ---\n",
    "df_normal = pd.read_csv(\"/Users/khaled/PA/Data/normal/normal_data.csv\")\n",
    "df_attack = pd.read_csv(\"/Users/khaled/PA/Data/anormal/anomalous_data.csv\")\n",
    "\n",
    "# --- Étape 2 : Conversion des colonnes numériques ---\n",
    "numeric_cols = ['total_bytes', 'pkt_count', 'psh_count', 'urg_count',\n",
    "                'fwd_bytes', 'bwd_bytes', 'fwd_pkts', 'bwd_pkts',\n",
    "                'dport', 'duration_ms', 'flow_pkts_per_s', 'fwd_bwd_ratio']\n",
    "\n",
    "for col in numeric_cols:\n",
    "    df_normal[col] = pd.to_numeric(df_normal[col], errors='coerce')\n",
    "    df_attack[col] = pd.to_numeric(df_attack[col], errors='coerce')\n"
   ],
   "id": "19091f8b453e01dc",
   "outputs": [],
   "execution_count": 7
  },
  {
   "metadata": {
    "ExecuteTime": {
     "end_time": "2025-06-14T12:18:01.683333Z",
     "start_time": "2025-06-14T12:18:01.662908Z"
    }
   },
   "cell_type": "code",
   "source": [
    "# --- Étape 3 : Suppression des colonnes inutiles ---\n",
    "cols_to_drop = ['flow_key', 'start_ts', 'end_ts', 'window_start', 'window_end']\n",
    "df_normal.drop(columns=cols_to_drop, inplace=True)\n",
    "df_attack.drop(columns=cols_to_drop, inplace=True)"
   ],
   "id": "71532a55c468c30d",
   "outputs": [],
   "execution_count": 8
  },
  {
   "metadata": {
    "ExecuteTime": {
     "end_time": "2025-06-14T12:18:06.130194Z",
     "start_time": "2025-06-14T12:18:06.124520Z"
    }
   },
   "cell_type": "code",
   "source": [
    "# --- Étape 4 : Ajout de labels binaires (Normal vs Attack) ---\n",
    "np.random.seed(42)  # reproductibilité\n",
    "df_attack['attack_type'] = 'Attack'  # Tous les types d'attaque sont regroupés en une seule classe\n",
    "df_normal['attack_type'] = 'Normal'"
   ],
   "id": "f2efc934d7242d7",
   "outputs": [],
   "execution_count": 9
  },
  {
   "metadata": {
    "ExecuteTime": {
     "end_time": "2025-06-14T12:18:16.346178Z",
     "start_time": "2025-06-14T12:18:16.331364Z"
    }
   },
   "cell_type": "code",
   "source": [
    "# Taille cible pour la classe \"Attack\"\n",
    "taille_attack = len(df_attack)\n",
    "print(\"Nombre d'échantillons d'attaque:\", taille_attack)\n",
    "\n",
    "# Utiliser tous les échantillons d'attaque\n",
    "df_attack_equilibre = df_attack.copy()\n",
    "\n",
    "# Vérification de l'équilibre\n",
    "print(df_attack_equilibre['attack_type'].value_counts())"
   ],
   "id": "ce837dc72f63caa8",
   "outputs": [
    {
     "name": "stdout",
     "output_type": "stream",
     "text": [
      "Nombre d'échantillons d'attaque: 69350\n",
      "attack_type\n",
      "Attack    69350\n",
      "Name: count, dtype: int64\n"
     ]
    }
   ],
   "execution_count": 10
  },
  {
   "metadata": {
    "ExecuteTime": {
     "end_time": "2025-06-14T12:18:32.026932Z",
     "start_time": "2025-06-14T12:18:32.005301Z"
    }
   },
   "cell_type": "code",
   "source": [
    "# --- Étape 5 : Équilibrage Normal vs Attack + Label Encoding ---\n",
    "# Échantillonner un nombre égal d'échantillons normaux pour équilibrer avec les attaques\n",
    "taille_normale = min(len(df_normal), taille_attack)\n",
    "df_normal_equilibre = df_normal.sample(taille_normale, random_state=42)\n",
    "\n",
    "print(\"Nombre d'échantillons normaux après équilibrage:\", len(df_normal_equilibre))\n",
    "print(\"Nombre d'échantillons d'attaque:\", len(df_attack_equilibre))\n",
    "\n",
    "# Fusion des données équilibrées\n",
    "df_all = pd.concat([df_normal_equilibre, df_attack_equilibre], ignore_index=True)\n",
    "\n",
    "# Encodage binaire (0 pour Normal, 1 pour Attack)\n",
    "le = LabelEncoder()\n",
    "df_all['attack_label'] = le.fit_transform(df_all['attack_type'])\n"
   ],
   "id": "ec709983aafebc81",
   "outputs": [
    {
     "name": "stdout",
     "output_type": "stream",
     "text": [
      "Nombre d'échantillons normaux après équilibrage: 6287\n",
      "Nombre d'échantillons d'attaque: 69350\n"
     ]
    }
   ],
   "execution_count": 11
  },
  {
   "metadata": {
    "ExecuteTime": {
     "end_time": "2025-06-14T12:18:35.866454Z",
     "start_time": "2025-06-14T12:18:35.852621Z"
    }
   },
   "cell_type": "code",
   "source": [
    "# --- Résultat ---\n",
    "print(\"Classes encodées (binaire) :\", list(zip(le.classes_, le.transform(le.classes_))))\n",
    "print(\"Shape finale du dataset binaire :\", df_all.shape)\n",
    "df_all.head()\n"
   ],
   "id": "ed05d271598de3f9",
   "outputs": [
    {
     "name": "stdout",
     "output_type": "stream",
     "text": [
      "Classes encodées (binaire) : [('Attack', np.int64(0)), ('Normal', np.int64(1))]\n",
      "Shape finale du dataset binaire : (75637, 16)\n"
     ]
    },
    {
     "data": {
      "text/plain": [
       "   Unnamed: 0  total_bytes  pkt_count  psh_count  urg_count  fwd_bytes  \\\n",
       "0        4441          920         12          3          0        853   \n",
       "1        3658          920         12          3          0        853   \n",
       "2        6067          920         12          3          0        853   \n",
       "3        5319          920         12          3          0        853   \n",
       "4        1539          920         12          3          0        853   \n",
       "\n",
       "   bwd_bytes  fwd_pkts  bwd_pkts  dport  attack  duration_ms  flow_pkts_per_s  \\\n",
       "0         67         5         7  56248   False     0.426054        11.994890   \n",
       "1         67         5         7  60738   False     0.620842        11.992555   \n",
       "2         67         5         7  42100   False     0.475883        11.994292   \n",
       "3         67         5         7  45556   False     0.324011        11.996113   \n",
       "4         67         5         7  53446   False     0.386953        11.995358   \n",
       "\n",
       "   fwd_bwd_ratio attack_type  attack_label  \n",
       "0      12.558824      Normal             1  \n",
       "1      12.558824      Normal             1  \n",
       "2      12.558824      Normal             1  \n",
       "3      12.558824      Normal             1  \n",
       "4      12.558824      Normal             1  "
      ],
      "text/html": [
       "<div>\n",
       "<style scoped>\n",
       "    .dataframe tbody tr th:only-of-type {\n",
       "        vertical-align: middle;\n",
       "    }\n",
       "\n",
       "    .dataframe tbody tr th {\n",
       "        vertical-align: top;\n",
       "    }\n",
       "\n",
       "    .dataframe thead th {\n",
       "        text-align: right;\n",
       "    }\n",
       "</style>\n",
       "<table border=\"1\" class=\"dataframe\">\n",
       "  <thead>\n",
       "    <tr style=\"text-align: right;\">\n",
       "      <th></th>\n",
       "      <th>Unnamed: 0</th>\n",
       "      <th>total_bytes</th>\n",
       "      <th>pkt_count</th>\n",
       "      <th>psh_count</th>\n",
       "      <th>urg_count</th>\n",
       "      <th>fwd_bytes</th>\n",
       "      <th>bwd_bytes</th>\n",
       "      <th>fwd_pkts</th>\n",
       "      <th>bwd_pkts</th>\n",
       "      <th>dport</th>\n",
       "      <th>attack</th>\n",
       "      <th>duration_ms</th>\n",
       "      <th>flow_pkts_per_s</th>\n",
       "      <th>fwd_bwd_ratio</th>\n",
       "      <th>attack_type</th>\n",
       "      <th>attack_label</th>\n",
       "    </tr>\n",
       "  </thead>\n",
       "  <tbody>\n",
       "    <tr>\n",
       "      <th>0</th>\n",
       "      <td>4441</td>\n",
       "      <td>920</td>\n",
       "      <td>12</td>\n",
       "      <td>3</td>\n",
       "      <td>0</td>\n",
       "      <td>853</td>\n",
       "      <td>67</td>\n",
       "      <td>5</td>\n",
       "      <td>7</td>\n",
       "      <td>56248</td>\n",
       "      <td>False</td>\n",
       "      <td>0.426054</td>\n",
       "      <td>11.994890</td>\n",
       "      <td>12.558824</td>\n",
       "      <td>Normal</td>\n",
       "      <td>1</td>\n",
       "    </tr>\n",
       "    <tr>\n",
       "      <th>1</th>\n",
       "      <td>3658</td>\n",
       "      <td>920</td>\n",
       "      <td>12</td>\n",
       "      <td>3</td>\n",
       "      <td>0</td>\n",
       "      <td>853</td>\n",
       "      <td>67</td>\n",
       "      <td>5</td>\n",
       "      <td>7</td>\n",
       "      <td>60738</td>\n",
       "      <td>False</td>\n",
       "      <td>0.620842</td>\n",
       "      <td>11.992555</td>\n",
       "      <td>12.558824</td>\n",
       "      <td>Normal</td>\n",
       "      <td>1</td>\n",
       "    </tr>\n",
       "    <tr>\n",
       "      <th>2</th>\n",
       "      <td>6067</td>\n",
       "      <td>920</td>\n",
       "      <td>12</td>\n",
       "      <td>3</td>\n",
       "      <td>0</td>\n",
       "      <td>853</td>\n",
       "      <td>67</td>\n",
       "      <td>5</td>\n",
       "      <td>7</td>\n",
       "      <td>42100</td>\n",
       "      <td>False</td>\n",
       "      <td>0.475883</td>\n",
       "      <td>11.994292</td>\n",
       "      <td>12.558824</td>\n",
       "      <td>Normal</td>\n",
       "      <td>1</td>\n",
       "    </tr>\n",
       "    <tr>\n",
       "      <th>3</th>\n",
       "      <td>5319</td>\n",
       "      <td>920</td>\n",
       "      <td>12</td>\n",
       "      <td>3</td>\n",
       "      <td>0</td>\n",
       "      <td>853</td>\n",
       "      <td>67</td>\n",
       "      <td>5</td>\n",
       "      <td>7</td>\n",
       "      <td>45556</td>\n",
       "      <td>False</td>\n",
       "      <td>0.324011</td>\n",
       "      <td>11.996113</td>\n",
       "      <td>12.558824</td>\n",
       "      <td>Normal</td>\n",
       "      <td>1</td>\n",
       "    </tr>\n",
       "    <tr>\n",
       "      <th>4</th>\n",
       "      <td>1539</td>\n",
       "      <td>920</td>\n",
       "      <td>12</td>\n",
       "      <td>3</td>\n",
       "      <td>0</td>\n",
       "      <td>853</td>\n",
       "      <td>67</td>\n",
       "      <td>5</td>\n",
       "      <td>7</td>\n",
       "      <td>53446</td>\n",
       "      <td>False</td>\n",
       "      <td>0.386953</td>\n",
       "      <td>11.995358</td>\n",
       "      <td>12.558824</td>\n",
       "      <td>Normal</td>\n",
       "      <td>1</td>\n",
       "    </tr>\n",
       "  </tbody>\n",
       "</table>\n",
       "</div>"
      ]
     },
     "execution_count": 12,
     "metadata": {},
     "output_type": "execute_result"
    }
   ],
   "execution_count": 12
  },
  {
   "metadata": {
    "ExecuteTime": {
     "end_time": "2025-06-14T12:18:48.935672Z",
     "start_time": "2025-06-14T12:18:48.921061Z"
    }
   },
   "cell_type": "code",
   "source": [
    "df_all['fwd_mean_pkt_size'] = np.where(df_all['fwd_pkts']==0, 0,\n",
    "                                       df_all['fwd_bytes']/df_all['fwd_pkts'])\n",
    "df_all['bwd_mean_pkt_size'] = np.where(df_all['bwd_pkts']==0, 0,\n",
    "                                       df_all['bwd_bytes']/df_all['bwd_pkts'])"
   ],
   "id": "34cd7ec167ce0c7b",
   "outputs": [],
   "execution_count": 13
  },
  {
   "metadata": {
    "ExecuteTime": {
     "end_time": "2025-06-14T12:18:55.814251Z",
     "start_time": "2025-06-14T12:18:55.503926Z"
    }
   },
   "cell_type": "code",
   "source": [
    "df_all.to_csv(\"/Users/khaled/PA/Data_binaire/dataset_simule_multiclass.csv\", index=False)\n",
    "df_sim = pd.read_csv(\"/Users/khaled/PA/Data_binaire/dataset_simule_multiclass.csv\")"
   ],
   "id": "bd92e1536ff52272",
   "outputs": [],
   "execution_count": 14
  },
  {
   "metadata": {
    "ExecuteTime": {
     "end_time": "2025-06-14T12:18:59.251684Z",
     "start_time": "2025-06-14T12:18:58.951502Z"
    }
   },
   "cell_type": "code",
   "source": [
    "UNSW_NB15_dataset = pd.read_csv(\"/Users/khaled/PA/Data/UNSW_NB15_training-set.csv\")\n",
    "len(UNSW_NB15_dataset)"
   ],
   "id": "94f0a8390a6f7397",
   "outputs": [
    {
     "data": {
      "text/plain": [
       "175341"
      ]
     },
     "execution_count": 15,
     "metadata": {},
     "output_type": "execute_result"
    }
   ],
   "execution_count": 15
  },
  {
   "metadata": {},
   "cell_type": "code",
   "source": "verifier(UNSW_NB15_dataset)",
   "id": "a340c7fa01652c35",
   "outputs": [],
   "execution_count": null
  },
  {
   "metadata": {
    "ExecuteTime": {
     "end_time": "2025-06-14T12:19:30.074352Z",
     "start_time": "2025-06-14T12:19:30.031604Z"
    }
   },
   "cell_type": "code",
   "source": [
    "# Afficher les catégories d'attaque originales\n",
    "print(\"Catégories d'attaque originales dans UNSW-NB15:\")\n",
    "print(UNSW_NB15_dataset['attack_cat'].value_counts())\n",
    "\n",
    "# Convertir en classification binaire (Normal vs Attack)\n",
    "UNSW_NB15_dataset['attack_cat_original'] = UNSW_NB15_dataset['attack_cat'].copy()\n",
    "UNSW_NB15_dataset['attack_cat'] = np.where(UNSW_NB15_dataset['attack_cat'] == 'Normal', 'Normal', 'Attack')\n",
    "\n",
    "# Afficher la distribution binaire\n",
    "print(\"\\nDistribution binaire (Normal vs Attack):\")\n",
    "print(UNSW_NB15_dataset['attack_cat'].value_counts())"
   ],
   "id": "14c55ae4113b1583",
   "outputs": [
    {
     "name": "stdout",
     "output_type": "stream",
     "text": [
      "Catégories d'attaque originales dans UNSW-NB15:\n",
      "attack_cat\n",
      "Normal            56000\n",
      "Generic           40000\n",
      "Exploits          33393\n",
      "Fuzzers           18184\n",
      "DoS               12264\n",
      "Reconnaissance    10491\n",
      "Analysis           2000\n",
      "Backdoor           1746\n",
      "Shellcode          1133\n",
      "Worms               130\n",
      "Name: count, dtype: int64\n",
      "\n",
      "Distribution binaire (Normal vs Attack):\n",
      "attack_cat\n",
      "Attack    119341\n",
      "Normal     56000\n",
      "Name: count, dtype: int64\n"
     ]
    }
   ],
   "execution_count": 16
  },
  {
   "metadata": {
    "ExecuteTime": {
     "end_time": "2025-06-14T12:19:50.644597Z",
     "start_time": "2025-06-14T12:19:50.640453Z"
    }
   },
   "cell_type": "code",
   "source": [
    "rename_map = {\n",
    "    'duration_ms'      : 'dur',\n",
    "    'fwd_pkts'         : 'spkts',\n",
    "    'bwd_pkts'         : 'dpkts',\n",
    "    'fwd_bytes'        : 'sbytes',\n",
    "    'bwd_bytes'        : 'dbytes',\n",
    "    'flow_pkts_per_s'  : 'rate'\n",
    "}\n",
    "df_sim.rename(columns=rename_map, inplace=True)\n"
   ],
   "id": "f4fc4e11cb060a4a",
   "outputs": [],
   "execution_count": 17
  },
  {
   "metadata": {
    "ExecuteTime": {
     "end_time": "2025-06-14T12:20:01.923715Z",
     "start_time": "2025-06-14T12:20:01.917502Z"
    }
   },
   "cell_type": "code",
   "source": [
    "# Ajout du label multiclasse (déjà présent dans df_sim[\"attack_type\"])\n",
    "df_sim['attack_cat'] = df_sim['attack_type']    # harmonisation de nom\n"
   ],
   "id": "163227cb36580fb9",
   "outputs": [],
   "execution_count": 18
  },
  {
   "metadata": {
    "ExecuteTime": {
     "end_time": "2025-06-14T12:20:11.429034Z",
     "start_time": "2025-06-14T12:20:11.414923Z"
    }
   },
   "cell_type": "code",
   "source": [
    "# Sélection finale des 8 features + label\n",
    "keep_cols = ['dur','spkts','dpkts','sbytes','dbytes','rate'\n",
    "            ,'fwd_mean_pkt_size','bwd_mean_pkt_size','attack_cat']\n",
    "df_sim = df_sim[keep_cols]"
   ],
   "id": "5069a199d41290d7",
   "outputs": [],
   "execution_count": 19
  },
  {
   "metadata": {
    "ExecuteTime": {
     "end_time": "2025-06-14T12:20:29.062964Z",
     "start_time": "2025-06-14T12:20:29.018141Z"
    }
   },
   "cell_type": "code",
   "source": [
    "# ------------------------------------------------------------------\n",
    "# Chargement des données UNSW-NB15\n",
    "# ------------------------------------------------------------------\n",
    "usecols_unsw = ['dur','spkts','dpkts','sbytes','dbytes','rate'\n",
    "                ,'attack_cat']                # dport existe via ct_dst_sport_ltm mais -> uint16\n",
    "df_unsw_tr = UNSW_NB15_dataset\n",
    "# df_unsw_ts = pd.read_csv(\"UNSW_NB15_testing-set.csv\" , usecols=usecols_unsw)\n",
    "# df_unsw    = pd.concat([df_unsw_tr, df_unsw_ts], ignore_index=True)\n",
    "\n",
    "# Assurer les mêmes types\n",
    "for col in ['dur','spkts','dpkts','sbytes','dbytes','rate']:\n",
    "    df_unsw_tr[col] = pd.to_numeric(df_unsw_tr[col], errors='coerce')\n",
    "\n",
    "# Créer les features moyennes paquets pour UNSW\n",
    "df_unsw_tr['fwd_mean_pkt_size'] = np.where(df_unsw_tr['spkts']==0, 0,\n",
    "                                        df_unsw_tr['sbytes']/df_unsw_tr['spkts'])\n",
    "df_unsw_tr['bwd_mean_pkt_size'] = np.where(df_unsw_tr['dpkts']==0, 0,\n",
    "                                        df_unsw_tr['dbytes']/df_unsw_tr['dpkts'])\n",
    "df_unsw_tr = df_unsw_tr[keep_cols]\n"
   ],
   "id": "6cd75f022998a69d",
   "outputs": [],
   "execution_count": 20
  },
  {
   "metadata": {
    "ExecuteTime": {
     "end_time": "2025-06-14T12:21:04.487878Z",
     "start_time": "2025-06-14T12:21:04.479119Z"
    }
   },
   "cell_type": "code",
   "source": [
    "print(len(df_unsw_tr))\n",
    "print(len(df_sim))"
   ],
   "id": "342b18561fd16906",
   "outputs": [
    {
     "name": "stdout",
     "output_type": "stream",
     "text": [
      "175341\n",
      "75637\n"
     ]
    }
   ],
   "execution_count": 21
  },
  {
   "metadata": {
    "ExecuteTime": {
     "end_time": "2025-06-14T12:21:27.779987Z",
     "start_time": "2025-06-14T12:21:27.737842Z"
    }
   },
   "cell_type": "code",
   "source": "final_data = pd.concat([df_sim, df_unsw_tr], ignore_index=True)",
   "id": "bc5457398f444376",
   "outputs": [],
   "execution_count": 22
  },
  {
   "metadata": {
    "ExecuteTime": {
     "end_time": "2025-06-14T12:21:29.760072Z",
     "start_time": "2025-06-14T12:21:29.749179Z"
    }
   },
   "cell_type": "code",
   "source": "final_data",
   "id": "b79a2a6403550b14",
   "outputs": [
    {
     "data": {
      "text/plain": [
       "             dur  spkts  dpkts  sbytes  dbytes           rate  \\\n",
       "0       0.426054      5      7     853      67      11.994890   \n",
       "1       0.620842      5      7     853      67      11.992555   \n",
       "2       0.475883      5      7     853      67      11.994292   \n",
       "3       0.324011      5      7     853      67      11.996113   \n",
       "4       0.386953      5      7     853      67      11.995358   \n",
       "...          ...    ...    ...     ...     ...            ...   \n",
       "250973  0.000009      2      0     114       0  111111.107200   \n",
       "250974  0.505762     10      8     620     354      33.612649   \n",
       "250975  0.000009      2      0     114       0  111111.107200   \n",
       "250976  0.000009      2      0     114       0  111111.107200   \n",
       "250977  0.000009      2      0     114       0  111111.107200   \n",
       "\n",
       "        fwd_mean_pkt_size  bwd_mean_pkt_size attack_cat  \n",
       "0                   170.6           9.571429     Normal  \n",
       "1                   170.6           9.571429     Normal  \n",
       "2                   170.6           9.571429     Normal  \n",
       "3                   170.6           9.571429     Normal  \n",
       "4                   170.6           9.571429     Normal  \n",
       "...                   ...                ...        ...  \n",
       "250973               57.0           0.000000     Attack  \n",
       "250974               62.0          44.250000     Attack  \n",
       "250975               57.0           0.000000     Attack  \n",
       "250976               57.0           0.000000     Attack  \n",
       "250977               57.0           0.000000     Attack  \n",
       "\n",
       "[250978 rows x 9 columns]"
      ],
      "text/html": [
       "<div>\n",
       "<style scoped>\n",
       "    .dataframe tbody tr th:only-of-type {\n",
       "        vertical-align: middle;\n",
       "    }\n",
       "\n",
       "    .dataframe tbody tr th {\n",
       "        vertical-align: top;\n",
       "    }\n",
       "\n",
       "    .dataframe thead th {\n",
       "        text-align: right;\n",
       "    }\n",
       "</style>\n",
       "<table border=\"1\" class=\"dataframe\">\n",
       "  <thead>\n",
       "    <tr style=\"text-align: right;\">\n",
       "      <th></th>\n",
       "      <th>dur</th>\n",
       "      <th>spkts</th>\n",
       "      <th>dpkts</th>\n",
       "      <th>sbytes</th>\n",
       "      <th>dbytes</th>\n",
       "      <th>rate</th>\n",
       "      <th>fwd_mean_pkt_size</th>\n",
       "      <th>bwd_mean_pkt_size</th>\n",
       "      <th>attack_cat</th>\n",
       "    </tr>\n",
       "  </thead>\n",
       "  <tbody>\n",
       "    <tr>\n",
       "      <th>0</th>\n",
       "      <td>0.426054</td>\n",
       "      <td>5</td>\n",
       "      <td>7</td>\n",
       "      <td>853</td>\n",
       "      <td>67</td>\n",
       "      <td>11.994890</td>\n",
       "      <td>170.6</td>\n",
       "      <td>9.571429</td>\n",
       "      <td>Normal</td>\n",
       "    </tr>\n",
       "    <tr>\n",
       "      <th>1</th>\n",
       "      <td>0.620842</td>\n",
       "      <td>5</td>\n",
       "      <td>7</td>\n",
       "      <td>853</td>\n",
       "      <td>67</td>\n",
       "      <td>11.992555</td>\n",
       "      <td>170.6</td>\n",
       "      <td>9.571429</td>\n",
       "      <td>Normal</td>\n",
       "    </tr>\n",
       "    <tr>\n",
       "      <th>2</th>\n",
       "      <td>0.475883</td>\n",
       "      <td>5</td>\n",
       "      <td>7</td>\n",
       "      <td>853</td>\n",
       "      <td>67</td>\n",
       "      <td>11.994292</td>\n",
       "      <td>170.6</td>\n",
       "      <td>9.571429</td>\n",
       "      <td>Normal</td>\n",
       "    </tr>\n",
       "    <tr>\n",
       "      <th>3</th>\n",
       "      <td>0.324011</td>\n",
       "      <td>5</td>\n",
       "      <td>7</td>\n",
       "      <td>853</td>\n",
       "      <td>67</td>\n",
       "      <td>11.996113</td>\n",
       "      <td>170.6</td>\n",
       "      <td>9.571429</td>\n",
       "      <td>Normal</td>\n",
       "    </tr>\n",
       "    <tr>\n",
       "      <th>4</th>\n",
       "      <td>0.386953</td>\n",
       "      <td>5</td>\n",
       "      <td>7</td>\n",
       "      <td>853</td>\n",
       "      <td>67</td>\n",
       "      <td>11.995358</td>\n",
       "      <td>170.6</td>\n",
       "      <td>9.571429</td>\n",
       "      <td>Normal</td>\n",
       "    </tr>\n",
       "    <tr>\n",
       "      <th>...</th>\n",
       "      <td>...</td>\n",
       "      <td>...</td>\n",
       "      <td>...</td>\n",
       "      <td>...</td>\n",
       "      <td>...</td>\n",
       "      <td>...</td>\n",
       "      <td>...</td>\n",
       "      <td>...</td>\n",
       "      <td>...</td>\n",
       "    </tr>\n",
       "    <tr>\n",
       "      <th>250973</th>\n",
       "      <td>0.000009</td>\n",
       "      <td>2</td>\n",
       "      <td>0</td>\n",
       "      <td>114</td>\n",
       "      <td>0</td>\n",
       "      <td>111111.107200</td>\n",
       "      <td>57.0</td>\n",
       "      <td>0.000000</td>\n",
       "      <td>Attack</td>\n",
       "    </tr>\n",
       "    <tr>\n",
       "      <th>250974</th>\n",
       "      <td>0.505762</td>\n",
       "      <td>10</td>\n",
       "      <td>8</td>\n",
       "      <td>620</td>\n",
       "      <td>354</td>\n",
       "      <td>33.612649</td>\n",
       "      <td>62.0</td>\n",
       "      <td>44.250000</td>\n",
       "      <td>Attack</td>\n",
       "    </tr>\n",
       "    <tr>\n",
       "      <th>250975</th>\n",
       "      <td>0.000009</td>\n",
       "      <td>2</td>\n",
       "      <td>0</td>\n",
       "      <td>114</td>\n",
       "      <td>0</td>\n",
       "      <td>111111.107200</td>\n",
       "      <td>57.0</td>\n",
       "      <td>0.000000</td>\n",
       "      <td>Attack</td>\n",
       "    </tr>\n",
       "    <tr>\n",
       "      <th>250976</th>\n",
       "      <td>0.000009</td>\n",
       "      <td>2</td>\n",
       "      <td>0</td>\n",
       "      <td>114</td>\n",
       "      <td>0</td>\n",
       "      <td>111111.107200</td>\n",
       "      <td>57.0</td>\n",
       "      <td>0.000000</td>\n",
       "      <td>Attack</td>\n",
       "    </tr>\n",
       "    <tr>\n",
       "      <th>250977</th>\n",
       "      <td>0.000009</td>\n",
       "      <td>2</td>\n",
       "      <td>0</td>\n",
       "      <td>114</td>\n",
       "      <td>0</td>\n",
       "      <td>111111.107200</td>\n",
       "      <td>57.0</td>\n",
       "      <td>0.000000</td>\n",
       "      <td>Attack</td>\n",
       "    </tr>\n",
       "  </tbody>\n",
       "</table>\n",
       "<p>250978 rows × 9 columns</p>\n",
       "</div>"
      ]
     },
     "execution_count": 23,
     "metadata": {},
     "output_type": "execute_result"
    }
   ],
   "execution_count": 23
  },
  {
   "metadata": {
    "ExecuteTime": {
     "end_time": "2025-06-14T12:22:12.946585Z",
     "start_time": "2025-06-14T12:22:12.903521Z"
    }
   },
   "cell_type": "code",
   "source": [
    "import joblib\n",
    "\n",
    "# Vérification de la distribution des classes avant équilibrage final\n",
    "print(\"Distribution des classes avant équilibrage final :\")\n",
    "print(final_data['attack_cat'].value_counts())\n",
    "\n",
    "# Équilibrage final des classes (Normal vs Attack)\n",
    "attack_samples = final_data[final_data['attack_cat'] == 'Attack']\n",
    "normal_samples = final_data[final_data['attack_cat'] == 'Normal']\n",
    "\n",
    "# Déterminer la taille cible pour l'équilibrage\n",
    "target_size = min(len(attack_samples), len(normal_samples))\n",
    "print(f\"Taille cible pour chaque classe après équilibrage: {target_size}\")\n"
   ],
   "id": "6884afb4005721c4",
   "outputs": [
    {
     "name": "stdout",
     "output_type": "stream",
     "text": [
      "Distribution des classes avant équilibrage final :\n",
      "attack_cat\n",
      "Attack    188691\n",
      "Normal     62287\n",
      "Name: count, dtype: int64\n",
      "Taille cible pour chaque classe après équilibrage: 62287\n"
     ]
    }
   ],
   "execution_count": 24
  },
  {
   "metadata": {
    "ExecuteTime": {
     "end_time": "2025-06-14T12:55:04.657220Z",
     "start_time": "2025-06-14T12:55:04.134803Z"
    }
   },
   "cell_type": "code",
   "source": [
    "from imblearn.over_sampling import SMOTE\n",
    "\n",
    "# Utiliser SMOTE pour équilibrer les classes au lieu du sous-échantillonnage\n",
    "# SMOTE (Synthetic Minority Over-sampling Technique) génère des échantillons synthétiques\n",
    "# pour la classe minoritaire au lieu de sous-échantillonner la classe majoritaire,\n",
    "# ce qui permet de conserver toutes les informations disponibles.\n",
    "# Séparer les features et la cible\n",
    "X = final_data[keep_cols[:-1]]  # Toutes les colonnes sauf 'attack_cat'\n",
    "y = final_data['attack_cat']\n",
    "\n",
    "# Appliquer SMOTE pour générer des échantillons synthétiques pour la classe minoritaire\n",
    "# Utiliser sampling_strategy pour contrôler le ratio des classes (pas 50/50)\n",
    "# Un ratio de 0.7 signifie que la classe minoritaire sera 70% de la taille de la classe majoritaire\n",
    "# Cela permet d'éviter un équilibre parfait qui pourrait être \"dangereux\" (surapprentissage)\n",
    "sampling_ratio = 0.7  # 70% - ajuster selon les besoins\n",
    "smote = SMOTE(sampling_strategy=sampling_ratio, random_state=42)\n",
    "X_resampled, y_resampled = smote.fit_resample(X, y)\n"
   ],
   "id": "14b2266190fc4264",
   "outputs": [],
   "execution_count": 36
  },
  {
   "metadata": {
    "ExecuteTime": {
     "end_time": "2025-06-14T12:55:04.737571Z",
     "start_time": "2025-06-14T12:55:04.732028Z"
    }
   },
   "cell_type": "code",
   "source": [
    "# Créer le dataset final avec SMOTE (intentionnellement déséquilibré)\n",
    "final_balanced_data = pd.DataFrame(X_resampled, columns=keep_cols[:-1])\n",
    "final_balanced_data['attack_cat'] = y_resampled"
   ],
   "id": "edfa9477eaebf01a",
   "outputs": [],
   "execution_count": 37
  },
  {
   "metadata": {
    "ExecuteTime": {
     "end_time": "2025-06-14T12:55:05.294390Z",
     "start_time": "2025-06-14T12:55:05.268192Z"
    }
   },
   "cell_type": "code",
   "source": [
    "print(f\"Taille du dataset après SMOTE: {len(final_balanced_data)} échantillons\")\n",
    "print(f\"Distribution des classes après SMOTE:\")\n",
    "print(final_balanced_data['attack_cat'].value_counts())\n",
    "print(\"Pourcentage de chaque classe après SMOTE:\")\n",
    "print(final_balanced_data['attack_cat'].value_counts(normalize=True) * 100)\n"
   ],
   "id": "f9488e9bddf9fafa",
   "outputs": [
    {
     "name": "stdout",
     "output_type": "stream",
     "text": [
      "Taille du dataset après SMOTE: 320774 échantillons\n",
      "Distribution des classes après SMOTE:\n",
      "attack_cat\n",
      "Attack    188691\n",
      "Normal    132083\n",
      "Name: count, dtype: int64\n",
      "Pourcentage de chaque classe après SMOTE:\n",
      "attack_cat\n",
      "Attack    58.823658\n",
      "Normal    41.176342\n",
      "Name: proportion, dtype: float64\n"
     ]
    }
   ],
   "execution_count": 38
  },
  {
   "metadata": {
    "ExecuteTime": {
     "end_time": "2025-06-14T12:55:17.622641Z",
     "start_time": "2025-06-14T12:55:17.602434Z"
    }
   },
   "cell_type": "code",
   "source": [
    "# Encodage binaire\n",
    "le = LabelEncoder()\n",
    "final_balanced_data['attack_label'] = le.fit_transform(final_balanced_data['attack_cat'])\n",
    "print(\"Mapping label binaire → code :\", dict(zip(le.classes_, le.transform(le.classes_))))"
   ],
   "id": "5463997f43e36999",
   "outputs": [
    {
     "name": "stdout",
     "output_type": "stream",
     "text": [
      "Mapping label binaire → code : {'Attack': np.int64(0), 'Normal': np.int64(1)}\n"
     ]
    }
   ],
   "execution_count": 39
  },
  {
   "metadata": {
    "ExecuteTime": {
     "end_time": "2025-06-14T12:56:58.505143Z",
     "start_time": "2025-06-14T12:56:57.915997Z"
    }
   },
   "cell_type": "code",
   "source": [
    "# Sauvegarder l'encodeur\n",
    "joblib.dump(le, \"models_binaire/label_encoder.joblib\")\n",
    "\n",
    "# Sauvegarder le dataset\n",
    "final_balanced_data.to_csv(\"/Users/khaled/PA/Data_binaire/imbalanced_dataset_smote.csv\", index=False)\n",
    "print(\"Dataset préparé pour classification binaire : \", final_balanced_data.shape, \"lignes, prêt pour le DL.\")\n",
    "\n",
    "# Vérification finale du dataset avec SMOTE\n",
    "print(\"Dataset avec SMOTE sauvegardé avec succès.\")\n",
    "print(\"Note: Ce dataset est intentionnellement déséquilibré (ratio de classes ~70%) pour éviter le surapprentissage.\")\n",
    "print(\"      Il sera utilisé avec class_weight dans le modèle pour une meilleure généralisation.\")"
   ],
   "id": "507268b81e595c14",
   "outputs": [
    {
     "name": "stdout",
     "output_type": "stream",
     "text": [
      "Dataset préparé pour classification binaire :  (320774, 10) lignes, prêt pour le DL.\n",
      "Dataset avec SMOTE sauvegardé avec succès.\n",
      "Note: Ce dataset est intentionnellement déséquilibré (ratio de classes ~70%) pour éviter le surapprentissage.\n",
      "      Il sera utilisé avec class_weight dans le modèle pour une meilleure généralisation.\n"
     ]
    }
   ],
   "execution_count": 41
  },
  {
   "metadata": {},
   "cell_type": "code",
   "source": "final_data",
   "id": "98ac2688874a6b4b",
   "outputs": [],
   "execution_count": null
  },
  {
   "metadata": {},
   "cell_type": "code",
   "source": "",
   "id": "def9e5df5ff2e01e",
   "outputs": [],
   "execution_count": null
  },
  {
   "metadata": {},
   "cell_type": "code",
   "source": "",
   "id": "4b70d969067e39e7",
   "outputs": [],
   "execution_count": null
  },
  {
   "metadata": {},
   "cell_type": "code",
   "source": "",
   "id": "7a24bbe9a20dc85d",
   "outputs": [],
   "execution_count": null
  }
 ],
 "metadata": {
  "kernelspec": {
   "display_name": "Python 3",
   "language": "python",
   "name": "python3"
  },
  "language_info": {
   "codemirror_mode": {
    "name": "ipython",
    "version": 2
   },
   "file_extension": ".py",
   "mimetype": "text/x-python",
   "name": "python",
   "nbconvert_exporter": "python",
   "pygments_lexer": "ipython2",
   "version": "2.7.6"
  }
 },
 "nbformat": 4,
 "nbformat_minor": 5
}
