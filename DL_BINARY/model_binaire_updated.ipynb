{
 "cells": [
  {
   "metadata": {
    "ExecuteTime": {
     "end_time": "2025-06-14T13:18:53.485548Z",
     "start_time": "2025-06-14T13:18:50.981740Z"
    }
   },
   "cell_type": "code",
   "source": [
    "from pathlib import Path\n",
    "import random\n",
    "import os\n",
    "from dotenv import load_dotenv\n",
    "from pathlib import Path\n",
    "import joblib\n",
    "import numpy as np\n",
    "import pandas as pd\n",
    "from sklearn.model_selection import train_test_split\n",
    "from sklearn.preprocessing import StandardScaler, LabelEncoder\n",
    "from sklearn.metrics import classification_report, confusion_matrix\n",
    "import tensorflow as tf\n",
    "from tensorflow.keras.layers import (Input, Conv1D, MaxPooling1D, Dropout,\n",
    "                                     Flatten, Dense)\n",
    "from tensorflow.keras.models import Sequential\n",
    "from tensorflow.keras.optimizers import Adam\n",
    "from tensorflow.keras.callbacks import EarlyStopping, ReduceLROnPlateau\n",
    "\n",
    "load_dotenv()\n",
    "# --------------------------------------------------------------------------- #\n",
    "# Approche: SMOTE déséquilibré + class_weight\n",
    "# --------------------------------------------------------------------------- #\n",
    "# Cette approche combine deux techniques pour gérer le déséquilibre des classes:\n",
    "# 1. SMOTE avec sampling_strategy=0.7 (dans explore_binaire.ipynb)\n",
    "#    - Génère des échantillons synthétiques pour la classe minoritaire\n",
    "#    - Mais maintient intentionnellement un déséquilibre (ratio ~70%)\n",
    "#    - Évite le surapprentissage qui peut survenir avec un équilibre parfait 50/50\n",
    "#\n",
    "# 2. class_weight dans model.fit()\n",
    "#    - Compense le déséquilibre restant pendant l'entraînement\n",
    "#    - Donne plus d'importance aux erreurs sur la classe minoritaire\n",
    "#\n",
    "# Avantages de cette approche combinée:\n",
    "# - Plus robuste qu'un équilibre parfait 50/50 qui peut être \"dangereux\"\n",
    "# - Reflète mieux la distribution réelle des données\n",
    "# - Améliore la généralisation du modèle\n",
    "# - Réduit le risque de faux négatifs coûteux\n"
   ],
   "id": "855e1aae0f5ac58c",
   "outputs": [],
   "execution_count": 1
  },
  {
   "metadata": {
    "ExecuteTime": {
     "end_time": "2025-06-14T13:19:59.550332Z",
     "start_time": "2025-06-14T13:19:59.543979Z"
    }
   },
   "cell_type": "code",
   "source": [
    "\n",
    "# --------------------------------------------------------------------------- #\n",
    "# 1. Reproducibility\n",
    "# --------------------------------------------------------------------------- #\n",
    "SEED = 42\n",
    "tf.keras.utils.set_random_seed(SEED)\n",
    "np.random.seed(SEED)\n",
    "random.seed(SEED)\n",
    "\n",
    "# --------------------------------------------------------------------------- #\n",
    "# 2. Paths & Params\n",
    "# --------------------------------------------------------------------------- #\n",
    "DATA_DIR_TRAIN = Path(os.getenv(\"DATA_DIR_TRAIN\"))\n",
    "DATA_DIR_TEST = Path(os.getenv(\"DATA_DIR_TEST\"))\n",
    "TRAIN_CSV = DATA_DIR_TRAIN / \"imbalanced_dataset_smote.csv\"  # Dataset intentionnellement déséquilibré avec SMOTE\n",
    "TEST_CSV  = DATA_DIR_TEST / \"UNSW_NB15_testing-set.csv\"\n",
    "\n",
    "FEATURES = [\n",
    "    \"dur\", \"spkts\", \"dpkts\", \"sbytes\", \"dbytes\", \"rate\",\n",
    "    \"fwd_mean_pkt_size\", \"bwd_mean_pkt_size\"\n",
    "]\n",
    "BATCH_SIZE = 256\n",
    "N_EPOCHS   = 100\n",
    "LR         = 5e-4\n"
   ],
   "id": "4dd34149f9c65f",
   "outputs": [],
   "execution_count": 2
  },
  {
   "metadata": {
    "ExecuteTime": {
     "end_time": "2025-06-14T13:20:02.575397Z",
     "start_time": "2025-06-14T13:20:02.568973Z"
    }
   },
   "cell_type": "code",
   "source": [
    "\n",
    "# --------------------------------------------------------------------------- #\n",
    "# 3. Utility functions\n",
    "# --------------------------------------------------------------------------- #\n",
    "def add_mean_pkt_size(df: pd.DataFrame) -> pd.DataFrame:\n",
    "    \"\"\"Add forward/backward mean packet‑size columns (in‑place).\"\"\"\n",
    "    df[\"fwd_mean_pkt_size\"] = np.where(df[\"spkts\"] == 0, 0,\n",
    "                                       df[\"sbytes\"] / df[\"spkts\"])\n",
    "    df[\"bwd_mean_pkt_size\"] = np.where(df[\"dpkts\"] == 0, 0,\n",
    "                                       df[\"dbytes\"] / df[\"dpkts\"])\n",
    "    return df\n",
    "\n",
    "def build_cnn(input_steps: int, input_channels: int) -> Sequential:\n",
    "    \"\"\"Return compiled 1‑D CNN for binary classification.\"\"\"\n",
    "    model = Sequential([\n",
    "        Input(shape=(input_steps, input_channels)),\n",
    "        # Block 1\n",
    "        Conv1D(32, 3, padding=\"same\", activation=\"relu\"),\n",
    "        Conv1D(32, 3, padding=\"same\", activation=\"relu\"),\n",
    "        MaxPooling1D(2),\n",
    "        Dropout(0.20),\n",
    "        # Block 2\n",
    "        Conv1D(64, 3, padding=\"same\", activation=\"relu\"),\n",
    "        Conv1D(64, 3, padding=\"same\", activation=\"relu\"),\n",
    "        MaxPooling1D(2),\n",
    "        Dropout(0.30),\n",
    "        # Dense\n",
    "        Flatten(),\n",
    "        Dense(128, activation=\"relu\"),\n",
    "        Dropout(0.40),\n",
    "        Dense(1, activation=\"sigmoid\")  # Binary classification: 1 neuron with sigmoid\n",
    "    ])\n",
    "    model.compile(\n",
    "        optimizer=Adam(learning_rate=LR),\n",
    "        loss=\"binary_crossentropy\",  # Binary classification loss\n",
    "        metrics=[\"accuracy\"]\n",
    "    )\n",
    "    return model\n"
   ],
   "id": "5ffe077f839d3787",
   "outputs": [],
   "execution_count": 3
  },
  {
   "metadata": {
    "ExecuteTime": {
     "end_time": "2025-06-14T13:20:05.256058Z",
     "start_time": "2025-06-14T13:20:05.090261Z"
    }
   },
   "cell_type": "code",
   "source": [
    "\n",
    "# --------------------------------------------------------------------------- #\n",
    "# 4. Load & preprocess training data\n",
    "# --------------------------------------------------------------------------- #\n",
    "df = pd.read_csv(TRAIN_CSV)"
   ],
   "id": "d918322269e9b186",
   "outputs": [
    {
     "data": {
      "text/plain": [
       "             dur  spkts  dpkts  sbytes  dbytes         rate  \\\n",
       "0       0.426054      5      7     853      67    11.994890   \n",
       "1       0.620842      5      7     853      67    11.992555   \n",
       "2       0.475883      5      7     853      67    11.994292   \n",
       "3       0.324011      5      7     853      67    11.996113   \n",
       "4       0.386953      5      7     853      67    11.995358   \n",
       "...          ...    ...    ...     ...     ...          ...   \n",
       "320769  0.184090     22     14    1470    1728   190.124895   \n",
       "320770  0.038778     50     50    3062   32642  2553.307950   \n",
       "320771  1.034682     12     18    1580   10168    28.027947   \n",
       "320772  0.521128     10      6     534     268    28.783734   \n",
       "320773  0.399944      5      7     853      67    11.995203   \n",
       "\n",
       "        fwd_mean_pkt_size  bwd_mean_pkt_size attack_cat  attack_label  \n",
       "0              170.600000           9.571429     Normal             1  \n",
       "1              170.600000           9.571429     Normal             1  \n",
       "2              170.600000           9.571429     Normal             1  \n",
       "3              170.600000           9.571429     Normal             1  \n",
       "4              170.600000           9.571429     Normal             1  \n",
       "...                   ...                ...        ...           ...  \n",
       "320769          66.818182         123.428571     Normal             1  \n",
       "320770          61.240000         652.840000     Normal             1  \n",
       "320771         131.666667         564.888889     Normal             1  \n",
       "320772          53.400000          44.666667     Normal             1  \n",
       "320773         170.600000           9.571429     Normal             1  \n",
       "\n",
       "[320774 rows x 10 columns]"
      ],
      "text/html": [
       "<div>\n",
       "<style scoped>\n",
       "    .dataframe tbody tr th:only-of-type {\n",
       "        vertical-align: middle;\n",
       "    }\n",
       "\n",
       "    .dataframe tbody tr th {\n",
       "        vertical-align: top;\n",
       "    }\n",
       "\n",
       "    .dataframe thead th {\n",
       "        text-align: right;\n",
       "    }\n",
       "</style>\n",
       "<table border=\"1\" class=\"dataframe\">\n",
       "  <thead>\n",
       "    <tr style=\"text-align: right;\">\n",
       "      <th></th>\n",
       "      <th>dur</th>\n",
       "      <th>spkts</th>\n",
       "      <th>dpkts</th>\n",
       "      <th>sbytes</th>\n",
       "      <th>dbytes</th>\n",
       "      <th>rate</th>\n",
       "      <th>fwd_mean_pkt_size</th>\n",
       "      <th>bwd_mean_pkt_size</th>\n",
       "      <th>attack_cat</th>\n",
       "      <th>attack_label</th>\n",
       "    </tr>\n",
       "  </thead>\n",
       "  <tbody>\n",
       "    <tr>\n",
       "      <th>0</th>\n",
       "      <td>0.426054</td>\n",
       "      <td>5</td>\n",
       "      <td>7</td>\n",
       "      <td>853</td>\n",
       "      <td>67</td>\n",
       "      <td>11.994890</td>\n",
       "      <td>170.600000</td>\n",
       "      <td>9.571429</td>\n",
       "      <td>Normal</td>\n",
       "      <td>1</td>\n",
       "    </tr>\n",
       "    <tr>\n",
       "      <th>1</th>\n",
       "      <td>0.620842</td>\n",
       "      <td>5</td>\n",
       "      <td>7</td>\n",
       "      <td>853</td>\n",
       "      <td>67</td>\n",
       "      <td>11.992555</td>\n",
       "      <td>170.600000</td>\n",
       "      <td>9.571429</td>\n",
       "      <td>Normal</td>\n",
       "      <td>1</td>\n",
       "    </tr>\n",
       "    <tr>\n",
       "      <th>2</th>\n",
       "      <td>0.475883</td>\n",
       "      <td>5</td>\n",
       "      <td>7</td>\n",
       "      <td>853</td>\n",
       "      <td>67</td>\n",
       "      <td>11.994292</td>\n",
       "      <td>170.600000</td>\n",
       "      <td>9.571429</td>\n",
       "      <td>Normal</td>\n",
       "      <td>1</td>\n",
       "    </tr>\n",
       "    <tr>\n",
       "      <th>3</th>\n",
       "      <td>0.324011</td>\n",
       "      <td>5</td>\n",
       "      <td>7</td>\n",
       "      <td>853</td>\n",
       "      <td>67</td>\n",
       "      <td>11.996113</td>\n",
       "      <td>170.600000</td>\n",
       "      <td>9.571429</td>\n",
       "      <td>Normal</td>\n",
       "      <td>1</td>\n",
       "    </tr>\n",
       "    <tr>\n",
       "      <th>4</th>\n",
       "      <td>0.386953</td>\n",
       "      <td>5</td>\n",
       "      <td>7</td>\n",
       "      <td>853</td>\n",
       "      <td>67</td>\n",
       "      <td>11.995358</td>\n",
       "      <td>170.600000</td>\n",
       "      <td>9.571429</td>\n",
       "      <td>Normal</td>\n",
       "      <td>1</td>\n",
       "    </tr>\n",
       "    <tr>\n",
       "      <th>...</th>\n",
       "      <td>...</td>\n",
       "      <td>...</td>\n",
       "      <td>...</td>\n",
       "      <td>...</td>\n",
       "      <td>...</td>\n",
       "      <td>...</td>\n",
       "      <td>...</td>\n",
       "      <td>...</td>\n",
       "      <td>...</td>\n",
       "      <td>...</td>\n",
       "    </tr>\n",
       "    <tr>\n",
       "      <th>320769</th>\n",
       "      <td>0.184090</td>\n",
       "      <td>22</td>\n",
       "      <td>14</td>\n",
       "      <td>1470</td>\n",
       "      <td>1728</td>\n",
       "      <td>190.124895</td>\n",
       "      <td>66.818182</td>\n",
       "      <td>123.428571</td>\n",
       "      <td>Normal</td>\n",
       "      <td>1</td>\n",
       "    </tr>\n",
       "    <tr>\n",
       "      <th>320770</th>\n",
       "      <td>0.038778</td>\n",
       "      <td>50</td>\n",
       "      <td>50</td>\n",
       "      <td>3062</td>\n",
       "      <td>32642</td>\n",
       "      <td>2553.307950</td>\n",
       "      <td>61.240000</td>\n",
       "      <td>652.840000</td>\n",
       "      <td>Normal</td>\n",
       "      <td>1</td>\n",
       "    </tr>\n",
       "    <tr>\n",
       "      <th>320771</th>\n",
       "      <td>1.034682</td>\n",
       "      <td>12</td>\n",
       "      <td>18</td>\n",
       "      <td>1580</td>\n",
       "      <td>10168</td>\n",
       "      <td>28.027947</td>\n",
       "      <td>131.666667</td>\n",
       "      <td>564.888889</td>\n",
       "      <td>Normal</td>\n",
       "      <td>1</td>\n",
       "    </tr>\n",
       "    <tr>\n",
       "      <th>320772</th>\n",
       "      <td>0.521128</td>\n",
       "      <td>10</td>\n",
       "      <td>6</td>\n",
       "      <td>534</td>\n",
       "      <td>268</td>\n",
       "      <td>28.783734</td>\n",
       "      <td>53.400000</td>\n",
       "      <td>44.666667</td>\n",
       "      <td>Normal</td>\n",
       "      <td>1</td>\n",
       "    </tr>\n",
       "    <tr>\n",
       "      <th>320773</th>\n",
       "      <td>0.399944</td>\n",
       "      <td>5</td>\n",
       "      <td>7</td>\n",
       "      <td>853</td>\n",
       "      <td>67</td>\n",
       "      <td>11.995203</td>\n",
       "      <td>170.600000</td>\n",
       "      <td>9.571429</td>\n",
       "      <td>Normal</td>\n",
       "      <td>1</td>\n",
       "    </tr>\n",
       "  </tbody>\n",
       "</table>\n",
       "<p>320774 rows × 10 columns</p>\n",
       "</div>"
      ]
     },
     "execution_count": 4,
     "metadata": {},
     "output_type": "execute_result"
    }
   ],
   "execution_count": 4
  },
  {
   "metadata": {
    "ExecuteTime": {
     "end_time": "2025-06-14T13:20:35.895716Z",
     "start_time": "2025-06-14T13:20:35.715230Z"
    }
   },
   "cell_type": "code",
   "source": [
    "\n",
    "\n",
    "train_df, val_df = train_test_split(\n",
    "    df,\n",
    "    test_size=0.15,\n",
    "    stratify=df[\"attack_cat\"],\n",
    "    random_state=SEED\n",
    ")\n",
    "\n",
    "# Fit label‑encoder on training labels ONLY\n",
    "le = LabelEncoder()\n",
    "y_train_int = le.fit_transform(train_df[\"attack_cat\"])\n",
    "y_val_int   = le.transform(val_df[\"attack_cat\"])\n",
    "\n",
    "# Persist encoder for later inference\n",
    "joblib.dump(le, \"models_binaire/label_encoder_binary.joblib\")\n",
    "\n",
    "# Standardise numerical features\n",
    "scaler = StandardScaler()\n",
    "X_train = scaler.fit_transform(train_df[FEATURES])\n",
    "X_val   = scaler.transform(val_df[FEATURES])\n",
    "\n",
    "# Persist scaler\n",
    "joblib.dump(scaler, \"models_binaire/feature_scaler_binary.joblib\")\n",
    "\n",
    "# Reshape for Conv1D: (batch, steps, channels)\n",
    "X_train = X_train.reshape(-1, len(FEATURES), 1)\n",
    "X_val   = X_val.reshape(-1, len(FEATURES), 1)\n"
   ],
   "id": "492b2ec81c3ee46b",
   "outputs": [],
   "execution_count": 5
  },
  {
   "metadata": {
    "ExecuteTime": {
     "end_time": "2025-06-14T13:24:09.732895Z",
     "start_time": "2025-06-14T13:21:20.070969Z"
    }
   },
   "cell_type": "code",
   "source": [
    "\n",
    "# --------------------------------------------------------------------------- #\n",
    "# 5. Build & train model\n",
    "# --------------------------------------------------------------------------- #\n",
    "model = build_cnn(len(FEATURES), 1)  # No need for n_classes parameter for binary classification\n",
    "model.summary()\n",
    "\n",
    "callbacks = [\n",
    "    EarlyStopping(monitor=\"val_loss\", patience=5, restore_best_weights=True),\n",
    "    ReduceLROnPlateau(monitor=\"val_loss\", factor=0.1, patience=3, min_lr=1e-7)\n",
    "]\n",
    "\n",
    "# Calculer les poids des classes pour compenser le déséquilibre\n",
    "# Cela complète l'approche SMOTE modifiée (avec sampling_strategy < 1)\n",
    "# en donnant plus d'importance à la classe minoritaire pendant l'entraînement\n",
    "class_counts = np.bincount(y_train_int)\n",
    "total_samples = len(y_train_int)\n",
    "class_weights = {\n",
    "    0: total_samples / (len(np.unique(y_train_int)) * class_counts[0]),\n",
    "    1: total_samples / (len(np.unique(y_train_int)) * class_counts[1])\n",
    "}\n",
    "print(f\"Distribution des classes dans l'ensemble d'entraînement: {class_counts}\")\n",
    "print(f\"Poids des classes appliqués: {class_weights}\")\n",
    "\n",
    "history = model.fit(\n",
    "    X_train, y_train_int,\n",
    "    validation_data=(X_val, y_val_int),\n",
    "    epochs=N_EPOCHS,\n",
    "    batch_size=BATCH_SIZE,\n",
    "    callbacks=callbacks,\n",
    "    class_weight=class_weights,  # Ajouter les poids des classes\n",
    "    verbose=2\n",
    ")\n",
    "\n",
    "model.save(\"models_binaire/cnn_binary_ids.h5\")\n",
    "\n",
    "# --------------------------------------------------------------------------- #\n",
    "# 6. Evaluation on UNSW‑NB15 testing set\n",
    "# --------------------------------------------------------------------------- #\n",
    "df_test = pd.read_csv(TEST_CSV)\n",
    "df_test = add_mean_pkt_size(df_test)\n",
    "\n",
    "# Convert test set to binary classification (Normal vs Attack)\n",
    "# Toutes les catégories d'attaque sont regroupées en une seule classe 'Attack'\n",
    "# C'est une exigence pour la classification binaire\n",
    "df_test['attack_cat'] = np.where(df_test['attack_cat'] == 'Normal', 'Normal', 'Attack')\n",
    "\n",
    "# Keep same 8 numeric features + attack_cat\n",
    "df_test = df_test[FEATURES + [\"attack_cat\"]]\n",
    "\n",
    "# Transform labels with *saved* encoder – no refit!\n",
    "y_test_int = le.transform(df_test[\"attack_cat\"])\n",
    "\n",
    "# Standardise with *saved* scaler – no refit!\n",
    "X_test = scaler.transform(df_test[FEATURES]).reshape(-1, len(FEATURES), 1)\n",
    "\n",
    "# Evaluate\n",
    "test_loss, test_acc = model.evaluate(X_test, y_test_int, verbose=0)\n",
    "print(f\"Test accuracy : {test_acc:.4f}\")\n",
    "\n",
    "# Detailed metrics\n",
    "y_pred_proba = model.predict(X_test, verbose=0)\n",
    "y_pred_int = (y_pred_proba > 0.5).astype(int).flatten()\n",
    "\n",
    "print(\"\\nClassification report (test set)\\n\")\n",
    "print(classification_report(\n",
    "    y_test_int, y_pred_int,\n",
    "    target_names=le.classes_,\n",
    "    digits=4\n",
    "))\n",
    "\n",
    "print(\"Confusion matrix\\n\")\n",
    "print(confusion_matrix(y_test_int, y_pred_int))\n"
   ],
   "id": "49c9dd84b863f2d1",
   "outputs": [
    {
     "data": {
      "text/plain": [
       "\u001B[1mModel: \"sequential\"\u001B[0m\n"
      ],
      "text/html": [
       "<pre style=\"white-space:pre;overflow-x:auto;line-height:normal;font-family:Menlo,'DejaVu Sans Mono',consolas,'Courier New',monospace\"><span style=\"font-weight: bold\">Model: \"sequential\"</span>\n",
       "</pre>\n"
      ]
     },
     "metadata": {},
     "output_type": "display_data"
    },
    {
     "data": {
      "text/plain": [
       "┏━━━━━━━━━━━━━━━━━━━━━━━━━━━━━━━━━┳━━━━━━━━━━━━━━━━━━━━━━━━┳━━━━━━━━━━━━━━━┓\n",
       "┃\u001B[1m \u001B[0m\u001B[1mLayer (type)                   \u001B[0m\u001B[1m \u001B[0m┃\u001B[1m \u001B[0m\u001B[1mOutput Shape          \u001B[0m\u001B[1m \u001B[0m┃\u001B[1m \u001B[0m\u001B[1m      Param #\u001B[0m\u001B[1m \u001B[0m┃\n",
       "┡━━━━━━━━━━━━━━━━━━━━━━━━━━━━━━━━━╇━━━━━━━━━━━━━━━━━━━━━━━━╇━━━━━━━━━━━━━━━┩\n",
       "│ conv1d (\u001B[38;5;33mConv1D\u001B[0m)                 │ (\u001B[38;5;45mNone\u001B[0m, \u001B[38;5;34m8\u001B[0m, \u001B[38;5;34m32\u001B[0m)          │           \u001B[38;5;34m128\u001B[0m │\n",
       "├─────────────────────────────────┼────────────────────────┼───────────────┤\n",
       "│ conv1d_1 (\u001B[38;5;33mConv1D\u001B[0m)               │ (\u001B[38;5;45mNone\u001B[0m, \u001B[38;5;34m8\u001B[0m, \u001B[38;5;34m32\u001B[0m)          │         \u001B[38;5;34m3,104\u001B[0m │\n",
       "├─────────────────────────────────┼────────────────────────┼───────────────┤\n",
       "│ max_pooling1d (\u001B[38;5;33mMaxPooling1D\u001B[0m)    │ (\u001B[38;5;45mNone\u001B[0m, \u001B[38;5;34m4\u001B[0m, \u001B[38;5;34m32\u001B[0m)          │             \u001B[38;5;34m0\u001B[0m │\n",
       "├─────────────────────────────────┼────────────────────────┼───────────────┤\n",
       "│ dropout (\u001B[38;5;33mDropout\u001B[0m)               │ (\u001B[38;5;45mNone\u001B[0m, \u001B[38;5;34m4\u001B[0m, \u001B[38;5;34m32\u001B[0m)          │             \u001B[38;5;34m0\u001B[0m │\n",
       "├─────────────────────────────────┼────────────────────────┼───────────────┤\n",
       "│ conv1d_2 (\u001B[38;5;33mConv1D\u001B[0m)               │ (\u001B[38;5;45mNone\u001B[0m, \u001B[38;5;34m4\u001B[0m, \u001B[38;5;34m64\u001B[0m)          │         \u001B[38;5;34m6,208\u001B[0m │\n",
       "├─────────────────────────────────┼────────────────────────┼───────────────┤\n",
       "│ conv1d_3 (\u001B[38;5;33mConv1D\u001B[0m)               │ (\u001B[38;5;45mNone\u001B[0m, \u001B[38;5;34m4\u001B[0m, \u001B[38;5;34m64\u001B[0m)          │        \u001B[38;5;34m12,352\u001B[0m │\n",
       "├─────────────────────────────────┼────────────────────────┼───────────────┤\n",
       "│ max_pooling1d_1 (\u001B[38;5;33mMaxPooling1D\u001B[0m)  │ (\u001B[38;5;45mNone\u001B[0m, \u001B[38;5;34m2\u001B[0m, \u001B[38;5;34m64\u001B[0m)          │             \u001B[38;5;34m0\u001B[0m │\n",
       "├─────────────────────────────────┼────────────────────────┼───────────────┤\n",
       "│ dropout_1 (\u001B[38;5;33mDropout\u001B[0m)             │ (\u001B[38;5;45mNone\u001B[0m, \u001B[38;5;34m2\u001B[0m, \u001B[38;5;34m64\u001B[0m)          │             \u001B[38;5;34m0\u001B[0m │\n",
       "├─────────────────────────────────┼────────────────────────┼───────────────┤\n",
       "│ flatten (\u001B[38;5;33mFlatten\u001B[0m)               │ (\u001B[38;5;45mNone\u001B[0m, \u001B[38;5;34m128\u001B[0m)            │             \u001B[38;5;34m0\u001B[0m │\n",
       "├─────────────────────────────────┼────────────────────────┼───────────────┤\n",
       "│ dense (\u001B[38;5;33mDense\u001B[0m)                   │ (\u001B[38;5;45mNone\u001B[0m, \u001B[38;5;34m128\u001B[0m)            │        \u001B[38;5;34m16,512\u001B[0m │\n",
       "├─────────────────────────────────┼────────────────────────┼───────────────┤\n",
       "│ dropout_2 (\u001B[38;5;33mDropout\u001B[0m)             │ (\u001B[38;5;45mNone\u001B[0m, \u001B[38;5;34m128\u001B[0m)            │             \u001B[38;5;34m0\u001B[0m │\n",
       "├─────────────────────────────────┼────────────────────────┼───────────────┤\n",
       "│ dense_1 (\u001B[38;5;33mDense\u001B[0m)                 │ (\u001B[38;5;45mNone\u001B[0m, \u001B[38;5;34m1\u001B[0m)              │           \u001B[38;5;34m129\u001B[0m │\n",
       "└─────────────────────────────────┴────────────────────────┴───────────────┘\n"
      ],
      "text/html": [
       "<pre style=\"white-space:pre;overflow-x:auto;line-height:normal;font-family:Menlo,'DejaVu Sans Mono',consolas,'Courier New',monospace\">┏━━━━━━━━━━━━━━━━━━━━━━━━━━━━━━━━━┳━━━━━━━━━━━━━━━━━━━━━━━━┳━━━━━━━━━━━━━━━┓\n",
       "┃<span style=\"font-weight: bold\"> Layer (type)                    </span>┃<span style=\"font-weight: bold\"> Output Shape           </span>┃<span style=\"font-weight: bold\">       Param # </span>┃\n",
       "┡━━━━━━━━━━━━━━━━━━━━━━━━━━━━━━━━━╇━━━━━━━━━━━━━━━━━━━━━━━━╇━━━━━━━━━━━━━━━┩\n",
       "│ conv1d (<span style=\"color: #0087ff; text-decoration-color: #0087ff\">Conv1D</span>)                 │ (<span style=\"color: #00d7ff; text-decoration-color: #00d7ff\">None</span>, <span style=\"color: #00af00; text-decoration-color: #00af00\">8</span>, <span style=\"color: #00af00; text-decoration-color: #00af00\">32</span>)          │           <span style=\"color: #00af00; text-decoration-color: #00af00\">128</span> │\n",
       "├─────────────────────────────────┼────────────────────────┼───────────────┤\n",
       "│ conv1d_1 (<span style=\"color: #0087ff; text-decoration-color: #0087ff\">Conv1D</span>)               │ (<span style=\"color: #00d7ff; text-decoration-color: #00d7ff\">None</span>, <span style=\"color: #00af00; text-decoration-color: #00af00\">8</span>, <span style=\"color: #00af00; text-decoration-color: #00af00\">32</span>)          │         <span style=\"color: #00af00; text-decoration-color: #00af00\">3,104</span> │\n",
       "├─────────────────────────────────┼────────────────────────┼───────────────┤\n",
       "│ max_pooling1d (<span style=\"color: #0087ff; text-decoration-color: #0087ff\">MaxPooling1D</span>)    │ (<span style=\"color: #00d7ff; text-decoration-color: #00d7ff\">None</span>, <span style=\"color: #00af00; text-decoration-color: #00af00\">4</span>, <span style=\"color: #00af00; text-decoration-color: #00af00\">32</span>)          │             <span style=\"color: #00af00; text-decoration-color: #00af00\">0</span> │\n",
       "├─────────────────────────────────┼────────────────────────┼───────────────┤\n",
       "│ dropout (<span style=\"color: #0087ff; text-decoration-color: #0087ff\">Dropout</span>)               │ (<span style=\"color: #00d7ff; text-decoration-color: #00d7ff\">None</span>, <span style=\"color: #00af00; text-decoration-color: #00af00\">4</span>, <span style=\"color: #00af00; text-decoration-color: #00af00\">32</span>)          │             <span style=\"color: #00af00; text-decoration-color: #00af00\">0</span> │\n",
       "├─────────────────────────────────┼────────────────────────┼───────────────┤\n",
       "│ conv1d_2 (<span style=\"color: #0087ff; text-decoration-color: #0087ff\">Conv1D</span>)               │ (<span style=\"color: #00d7ff; text-decoration-color: #00d7ff\">None</span>, <span style=\"color: #00af00; text-decoration-color: #00af00\">4</span>, <span style=\"color: #00af00; text-decoration-color: #00af00\">64</span>)          │         <span style=\"color: #00af00; text-decoration-color: #00af00\">6,208</span> │\n",
       "├─────────────────────────────────┼────────────────────────┼───────────────┤\n",
       "│ conv1d_3 (<span style=\"color: #0087ff; text-decoration-color: #0087ff\">Conv1D</span>)               │ (<span style=\"color: #00d7ff; text-decoration-color: #00d7ff\">None</span>, <span style=\"color: #00af00; text-decoration-color: #00af00\">4</span>, <span style=\"color: #00af00; text-decoration-color: #00af00\">64</span>)          │        <span style=\"color: #00af00; text-decoration-color: #00af00\">12,352</span> │\n",
       "├─────────────────────────────────┼────────────────────────┼───────────────┤\n",
       "│ max_pooling1d_1 (<span style=\"color: #0087ff; text-decoration-color: #0087ff\">MaxPooling1D</span>)  │ (<span style=\"color: #00d7ff; text-decoration-color: #00d7ff\">None</span>, <span style=\"color: #00af00; text-decoration-color: #00af00\">2</span>, <span style=\"color: #00af00; text-decoration-color: #00af00\">64</span>)          │             <span style=\"color: #00af00; text-decoration-color: #00af00\">0</span> │\n",
       "├─────────────────────────────────┼────────────────────────┼───────────────┤\n",
       "│ dropout_1 (<span style=\"color: #0087ff; text-decoration-color: #0087ff\">Dropout</span>)             │ (<span style=\"color: #00d7ff; text-decoration-color: #00d7ff\">None</span>, <span style=\"color: #00af00; text-decoration-color: #00af00\">2</span>, <span style=\"color: #00af00; text-decoration-color: #00af00\">64</span>)          │             <span style=\"color: #00af00; text-decoration-color: #00af00\">0</span> │\n",
       "├─────────────────────────────────┼────────────────────────┼───────────────┤\n",
       "│ flatten (<span style=\"color: #0087ff; text-decoration-color: #0087ff\">Flatten</span>)               │ (<span style=\"color: #00d7ff; text-decoration-color: #00d7ff\">None</span>, <span style=\"color: #00af00; text-decoration-color: #00af00\">128</span>)            │             <span style=\"color: #00af00; text-decoration-color: #00af00\">0</span> │\n",
       "├─────────────────────────────────┼────────────────────────┼───────────────┤\n",
       "│ dense (<span style=\"color: #0087ff; text-decoration-color: #0087ff\">Dense</span>)                   │ (<span style=\"color: #00d7ff; text-decoration-color: #00d7ff\">None</span>, <span style=\"color: #00af00; text-decoration-color: #00af00\">128</span>)            │        <span style=\"color: #00af00; text-decoration-color: #00af00\">16,512</span> │\n",
       "├─────────────────────────────────┼────────────────────────┼───────────────┤\n",
       "│ dropout_2 (<span style=\"color: #0087ff; text-decoration-color: #0087ff\">Dropout</span>)             │ (<span style=\"color: #00d7ff; text-decoration-color: #00d7ff\">None</span>, <span style=\"color: #00af00; text-decoration-color: #00af00\">128</span>)            │             <span style=\"color: #00af00; text-decoration-color: #00af00\">0</span> │\n",
       "├─────────────────────────────────┼────────────────────────┼───────────────┤\n",
       "│ dense_1 (<span style=\"color: #0087ff; text-decoration-color: #0087ff\">Dense</span>)                 │ (<span style=\"color: #00d7ff; text-decoration-color: #00d7ff\">None</span>, <span style=\"color: #00af00; text-decoration-color: #00af00\">1</span>)              │           <span style=\"color: #00af00; text-decoration-color: #00af00\">129</span> │\n",
       "└─────────────────────────────────┴────────────────────────┴───────────────┘\n",
       "</pre>\n"
      ]
     },
     "metadata": {},
     "output_type": "display_data"
    },
    {
     "data": {
      "text/plain": [
       "\u001B[1m Total params: \u001B[0m\u001B[38;5;34m38,433\u001B[0m (150.13 KB)\n"
      ],
      "text/html": [
       "<pre style=\"white-space:pre;overflow-x:auto;line-height:normal;font-family:Menlo,'DejaVu Sans Mono',consolas,'Courier New',monospace\"><span style=\"font-weight: bold\"> Total params: </span><span style=\"color: #00af00; text-decoration-color: #00af00\">38,433</span> (150.13 KB)\n",
       "</pre>\n"
      ]
     },
     "metadata": {},
     "output_type": "display_data"
    },
    {
     "data": {
      "text/plain": [
       "\u001B[1m Trainable params: \u001B[0m\u001B[38;5;34m38,433\u001B[0m (150.13 KB)\n"
      ],
      "text/html": [
       "<pre style=\"white-space:pre;overflow-x:auto;line-height:normal;font-family:Menlo,'DejaVu Sans Mono',consolas,'Courier New',monospace\"><span style=\"font-weight: bold\"> Trainable params: </span><span style=\"color: #00af00; text-decoration-color: #00af00\">38,433</span> (150.13 KB)\n",
       "</pre>\n"
      ]
     },
     "metadata": {},
     "output_type": "display_data"
    },
    {
     "data": {
      "text/plain": [
       "\u001B[1m Non-trainable params: \u001B[0m\u001B[38;5;34m0\u001B[0m (0.00 B)\n"
      ],
      "text/html": [
       "<pre style=\"white-space:pre;overflow-x:auto;line-height:normal;font-family:Menlo,'DejaVu Sans Mono',consolas,'Courier New',monospace\"><span style=\"font-weight: bold\"> Non-trainable params: </span><span style=\"color: #00af00; text-decoration-color: #00af00\">0</span> (0.00 B)\n",
       "</pre>\n"
      ]
     },
     "metadata": {},
     "output_type": "display_data"
    },
    {
     "name": "stdout",
     "output_type": "stream",
     "text": [
      "Distribution des classes dans l'ensemble d'entraînement: [160387 112270]\n",
      "Poids des classes appliqués: {0: np.float64(0.8499971942863199), 1: np.float64(1.2142914402779015)}\n",
      "Epoch 1/100\n",
      "1066/1066 - 4s - 4ms/step - accuracy: 0.8479 - loss: 0.3192 - val_accuracy: 0.8761 - val_loss: 0.2499 - learning_rate: 5.0000e-04\n",
      "Epoch 2/100\n",
      "1066/1066 - 3s - 3ms/step - accuracy: 0.8900 - loss: 0.2274 - val_accuracy: 0.9013 - val_loss: 0.1915 - learning_rate: 5.0000e-04\n",
      "Epoch 3/100\n",
      "1066/1066 - 3s - 3ms/step - accuracy: 0.9035 - loss: 0.1974 - val_accuracy: 0.9114 - val_loss: 0.1698 - learning_rate: 5.0000e-04\n",
      "Epoch 4/100\n",
      "1066/1066 - 3s - 3ms/step - accuracy: 0.9098 - loss: 0.1826 - val_accuracy: 0.9117 - val_loss: 0.1658 - learning_rate: 5.0000e-04\n",
      "Epoch 5/100\n",
      "1066/1066 - 3s - 3ms/step - accuracy: 0.9124 - loss: 0.1768 - val_accuracy: 0.9243 - val_loss: 0.1601 - learning_rate: 5.0000e-04\n",
      "Epoch 6/100\n",
      "1066/1066 - 3s - 3ms/step - accuracy: 0.9148 - loss: 0.1710 - val_accuracy: 0.9239 - val_loss: 0.1601 - learning_rate: 5.0000e-04\n",
      "Epoch 7/100\n",
      "1066/1066 - 3s - 3ms/step - accuracy: 0.9172 - loss: 0.1674 - val_accuracy: 0.9236 - val_loss: 0.1605 - learning_rate: 5.0000e-04\n",
      "Epoch 8/100\n",
      "1066/1066 - 4s - 4ms/step - accuracy: 0.9176 - loss: 0.1652 - val_accuracy: 0.9248 - val_loss: 0.1549 - learning_rate: 5.0000e-04\n",
      "Epoch 9/100\n",
      "1066/1066 - 4s - 4ms/step - accuracy: 0.9188 - loss: 0.1633 - val_accuracy: 0.9249 - val_loss: 0.1528 - learning_rate: 5.0000e-04\n",
      "Epoch 10/100\n",
      "1066/1066 - 4s - 4ms/step - accuracy: 0.9200 - loss: 0.1621 - val_accuracy: 0.9258 - val_loss: 0.1544 - learning_rate: 5.0000e-04\n",
      "Epoch 11/100\n",
      "1066/1066 - 4s - 4ms/step - accuracy: 0.9206 - loss: 0.1605 - val_accuracy: 0.9259 - val_loss: 0.1492 - learning_rate: 5.0000e-04\n",
      "Epoch 12/100\n",
      "1066/1066 - 4s - 3ms/step - accuracy: 0.9215 - loss: 0.1578 - val_accuracy: 0.9264 - val_loss: 0.1492 - learning_rate: 5.0000e-04\n",
      "Epoch 13/100\n",
      "1066/1066 - 4s - 3ms/step - accuracy: 0.9219 - loss: 0.1578 - val_accuracy: 0.9280 - val_loss: 0.1467 - learning_rate: 5.0000e-04\n",
      "Epoch 14/100\n",
      "1066/1066 - 3s - 3ms/step - accuracy: 0.9227 - loss: 0.1555 - val_accuracy: 0.9273 - val_loss: 0.1483 - learning_rate: 5.0000e-04\n",
      "Epoch 15/100\n",
      "1066/1066 - 4s - 3ms/step - accuracy: 0.9233 - loss: 0.1547 - val_accuracy: 0.9273 - val_loss: 0.1481 - learning_rate: 5.0000e-04\n",
      "Epoch 16/100\n",
      "1066/1066 - 3s - 3ms/step - accuracy: 0.9231 - loss: 0.1543 - val_accuracy: 0.9282 - val_loss: 0.1472 - learning_rate: 5.0000e-04\n",
      "Epoch 17/100\n",
      "1066/1066 - 3s - 3ms/step - accuracy: 0.9258 - loss: 0.1478 - val_accuracy: 0.9277 - val_loss: 0.1422 - learning_rate: 5.0000e-05\n",
      "Epoch 18/100\n",
      "1066/1066 - 4s - 3ms/step - accuracy: 0.9260 - loss: 0.1469 - val_accuracy: 0.9284 - val_loss: 0.1412 - learning_rate: 5.0000e-05\n",
      "Epoch 19/100\n",
      "1066/1066 - 4s - 3ms/step - accuracy: 0.9263 - loss: 0.1465 - val_accuracy: 0.9281 - val_loss: 0.1413 - learning_rate: 5.0000e-05\n",
      "Epoch 20/100\n",
      "1066/1066 - 3s - 3ms/step - accuracy: 0.9263 - loss: 0.1461 - val_accuracy: 0.9286 - val_loss: 0.1410 - learning_rate: 5.0000e-05\n",
      "Epoch 21/100\n",
      "1066/1066 - 3s - 3ms/step - accuracy: 0.9265 - loss: 0.1457 - val_accuracy: 0.9282 - val_loss: 0.1411 - learning_rate: 5.0000e-05\n",
      "Epoch 22/100\n",
      "1066/1066 - 3s - 3ms/step - accuracy: 0.9266 - loss: 0.1454 - val_accuracy: 0.9293 - val_loss: 0.1406 - learning_rate: 5.0000e-05\n",
      "Epoch 23/100\n",
      "1066/1066 - 5s - 5ms/step - accuracy: 0.9271 - loss: 0.1451 - val_accuracy: 0.9289 - val_loss: 0.1407 - learning_rate: 5.0000e-05\n",
      "Epoch 24/100\n",
      "1066/1066 - 4s - 4ms/step - accuracy: 0.9272 - loss: 0.1447 - val_accuracy: 0.9299 - val_loss: 0.1401 - learning_rate: 5.0000e-05\n",
      "Epoch 25/100\n",
      "1066/1066 - 3s - 3ms/step - accuracy: 0.9272 - loss: 0.1446 - val_accuracy: 0.9298 - val_loss: 0.1399 - learning_rate: 5.0000e-05\n",
      "Epoch 26/100\n",
      "1066/1066 - 4s - 4ms/step - accuracy: 0.9269 - loss: 0.1447 - val_accuracy: 0.9292 - val_loss: 0.1403 - learning_rate: 5.0000e-05\n",
      "Epoch 27/100\n",
      "1066/1066 - 4s - 4ms/step - accuracy: 0.9271 - loss: 0.1443 - val_accuracy: 0.9302 - val_loss: 0.1396 - learning_rate: 5.0000e-05\n",
      "Epoch 28/100\n",
      "1066/1066 - 4s - 4ms/step - accuracy: 0.9273 - loss: 0.1442 - val_accuracy: 0.9293 - val_loss: 0.1400 - learning_rate: 5.0000e-05\n",
      "Epoch 29/100\n",
      "1066/1066 - 5s - 5ms/step - accuracy: 0.9272 - loss: 0.1442 - val_accuracy: 0.9302 - val_loss: 0.1397 - learning_rate: 5.0000e-05\n",
      "Epoch 30/100\n",
      "1066/1066 - 4s - 4ms/step - accuracy: 0.9273 - loss: 0.1436 - val_accuracy: 0.9301 - val_loss: 0.1394 - learning_rate: 5.0000e-05\n",
      "Epoch 31/100\n",
      "1066/1066 - 5s - 5ms/step - accuracy: 0.9278 - loss: 0.1431 - val_accuracy: 0.9295 - val_loss: 0.1398 - learning_rate: 5.0000e-05\n",
      "Epoch 32/100\n",
      "1066/1066 - 6s - 5ms/step - accuracy: 0.9274 - loss: 0.1436 - val_accuracy: 0.9296 - val_loss: 0.1396 - learning_rate: 5.0000e-05\n",
      "Epoch 33/100\n",
      "1066/1066 - 6s - 6ms/step - accuracy: 0.9277 - loss: 0.1433 - val_accuracy: 0.9303 - val_loss: 0.1390 - learning_rate: 5.0000e-05\n",
      "Epoch 34/100\n",
      "1066/1066 - 5s - 4ms/step - accuracy: 0.9278 - loss: 0.1432 - val_accuracy: 0.9304 - val_loss: 0.1387 - learning_rate: 5.0000e-05\n",
      "Epoch 35/100\n",
      "1066/1066 - 6s - 5ms/step - accuracy: 0.9279 - loss: 0.1433 - val_accuracy: 0.9306 - val_loss: 0.1383 - learning_rate: 5.0000e-05\n",
      "Epoch 36/100\n",
      "1066/1066 - 6s - 5ms/step - accuracy: 0.9277 - loss: 0.1428 - val_accuracy: 0.9309 - val_loss: 0.1385 - learning_rate: 5.0000e-05\n",
      "Epoch 37/100\n",
      "1066/1066 - 6s - 5ms/step - accuracy: 0.9285 - loss: 0.1425 - val_accuracy: 0.9302 - val_loss: 0.1384 - learning_rate: 5.0000e-05\n",
      "Epoch 38/100\n",
      "1066/1066 - 7s - 7ms/step - accuracy: 0.9281 - loss: 0.1424 - val_accuracy: 0.9311 - val_loss: 0.1384 - learning_rate: 5.0000e-05\n",
      "Epoch 39/100\n",
      "1066/1066 - 6s - 5ms/step - accuracy: 0.9281 - loss: 0.1422 - val_accuracy: 0.9310 - val_loss: 0.1384 - learning_rate: 5.0000e-06\n",
      "Epoch 40/100\n",
      "1066/1066 - 5s - 5ms/step - accuracy: 0.9286 - loss: 0.1421 - val_accuracy: 0.9306 - val_loss: 0.1385 - learning_rate: 5.0000e-06\n"
     ]
    },
    {
     "name": "stderr",
     "output_type": "stream",
     "text": [
      "WARNING:absl:You are saving your model as an HDF5 file via `model.save()` or `keras.saving.save_model(model)`. This file format is considered legacy. We recommend using instead the native Keras format, e.g. `model.save('my_model.keras')` or `keras.saving.save_model(model, 'my_model.keras')`. \n"
     ]
    },
    {
     "name": "stdout",
     "output_type": "stream",
     "text": [
      "Test accuracy : 0.9037\n",
      "\n",
      "Classification report (test set)\n",
      "\n",
      "              precision    recall  f1-score   support\n",
      "\n",
      "      Attack     0.9242    0.8989    0.9114     45332\n",
      "      Normal     0.8802    0.9096    0.8947     37000\n",
      "\n",
      "    accuracy                         0.9037     82332\n",
      "   macro avg     0.9022    0.9043    0.9030     82332\n",
      "weighted avg     0.9044    0.9037    0.9039     82332\n",
      "\n",
      "Confusion matrix\n",
      "\n",
      "[[40751  4581]\n",
      " [ 3344 33656]]\n"
     ]
    }
   ],
   "execution_count": 6
  },
  {
   "metadata": {
    "ExecuteTime": {
     "end_time": "2025-06-14T13:26:09.641909Z",
     "start_time": "2025-06-14T13:26:09.574695Z"
    }
   },
   "cell_type": "code",
   "source": [
    "# Sauvegarder le modèle au format .h5\n",
    "model.save(\"models_binaire/cnn_binary_ids.h5\")\n",
    "print(\"Modèle binaire sauvegardé: cnn_binary_ids.h5\")\n"
   ],
   "id": "34c5c39ef234afd4",
   "outputs": [
    {
     "name": "stderr",
     "output_type": "stream",
     "text": [
      "WARNING:absl:You are saving your model as an HDF5 file via `model.save()` or `keras.saving.save_model(model)`. This file format is considered legacy. We recommend using instead the native Keras format, e.g. `model.save('my_model.keras')` or `keras.saving.save_model(model, 'my_model.keras')`. \n"
     ]
    },
    {
     "name": "stdout",
     "output_type": "stream",
     "text": [
      "Modèle binaire sauvegardé: cnn_binary_ids.h5\n"
     ]
    }
   ],
   "execution_count": 7
  },
  {
   "metadata": {
    "ExecuteTime": {
     "end_time": "2025-06-14T13:26:17.433874Z",
     "start_time": "2025-06-14T13:26:17.422447Z"
    }
   },
   "cell_type": "code",
   "source": [
    "# Sauvegarder les poids du modèle au format .pkl\n",
    "import joblib\n",
    "joblib.dump(model.get_weights(), \"models_binaire/cnn_binary_ids_weights.pkl\")\n",
    "print(\"Poids du modèle binaire sauvegardés: cnn_binary_ids_weights.pkl\")\n"
   ],
   "id": "5d082811425c0977",
   "outputs": [
    {
     "name": "stdout",
     "output_type": "stream",
     "text": [
      "Poids du modèle binaire sauvegardés: cnn_binary_ids_weights.pkl\n"
     ]
    }
   ],
   "execution_count": 8
  },
  {
   "metadata": {
    "ExecuteTime": {
     "end_time": "2025-06-14T14:43:32.934818Z",
     "start_time": "2025-06-14T14:43:32.810217Z"
    }
   },
   "cell_type": "code",
   "source": [
    "from sklearn.metrics import roc_curve, auc\n",
    "import matplotlib.pyplot as plt\n",
    "\n",
    "fpr, tpr, _ = roc_curve(y_test_int, y_pred_proba)\n",
    "roc_auc = auc(fpr, tpr)\n",
    "\n",
    "plt.figure(figsize=(8, 6))\n",
    "plt.plot(fpr, tpr, color=\"blue\", label=f\"ROC curve (AUC = {roc_auc:.4f})\")\n",
    "plt.plot([0, 1], [0, 1], color=\"gray\", linestyle=\"--\")\n",
    "plt.xlabel(\"False Positive Rate\")\n",
    "plt.ylabel(\"True Positive Rate\")\n",
    "plt.title(\"ROC Curve\")\n",
    "plt.legend(loc=\"lower right\")\n",
    "plt.grid()\n",
    "plt.show()\n"
   ],
   "id": "b30ba08296ea11c5",
   "outputs": [
    {
     "data": {
      "text/plain": [
       "<Figure size 800x600 with 1 Axes>"
      ],
      "image/png": "[encoded data removed]"
     },
     "metadata": {},
     "output_type": "display_data"
    }
   ],
   "execution_count": 10
  },
  {
   "metadata": {
    "ExecuteTime": {
     "end_time": "2025-06-14T14:44:10.848307Z",
     "start_time": "2025-06-14T14:44:10.793020Z"
    }
   },
   "cell_type": "code",
   "source": [
    "from sklearn.metrics import roc_curve, auc, precision_recall_curve\n",
    "\n",
    "# Courbe Precision-Recall\n",
    "precision, recall, _ = precision_recall_curve(y_test_int, y_pred_proba)\n",
    "\n",
    "plt.figure(figsize=(8, 6))\n",
    "plt.plot(recall, precision, color=\"green\", label=\"Precision-Recall curve\")\n",
    "plt.xlabel(\"Recall\")\n",
    "plt.ylabel(\"Precision\")\n",
    "plt.title(\"Precision-Recall Curve\")\n",
    "plt.legend(loc=\"lower left\")\n",
    "plt.grid()\n",
    "plt.show()"
   ],
   "id": "dc142aa42f2a346d",
   "outputs": [
    {
     "data": {
      "text/plain": [
       "<Figure size 800x600 with 1 Axes>"
      ],
      "image/png": "[encoded data removed]"
     },
     "metadata": {},
     "output_type": "display_data"
    }
   ],
   "execution_count": 12
  },
  {
   "metadata": {
    "ExecuteTime": {
     "end_time": "2025-06-14T15:48:52.981986Z",
     "start_time": "2025-06-14T15:48:37.474951Z"
    }
   },
   "cell_type": "code",
   "source": [
    "# tester le temps d'execution (latence) du modèle\n",
    "import time\n",
    "\n",
    "n_iter = 1000  # nombre de prédictions à chronométrer\n",
    "start = time.time()\n",
    "\n",
    "for _ in range(n_iter):\n",
    "    _ = model.predict(X_test[:1], verbose=0)  # 1 ligne à la fois\n",
    "\n",
    "end = time.time()\n",
    "avg_time = (end - start) / n_iter\n",
    "print(f\"Temps moyen par prédiction : {avg_time:.6f} secondes\")\n"
   ],
   "id": "868a98dcd6972f39",
   "outputs": [
    {
     "name": "stdout",
     "output_type": "stream",
     "text": [
      "Temps moyen par prédiction : 0.015500 secondes\n"
     ]
    }
   ],
   "execution_count": 13
  },
  {
   "metadata": {
    "ExecuteTime": {
     "end_time": "2025-06-14T15:50:22.991130Z",
     "start_time": "2025-06-14T15:50:22.756193Z"
    }
   },
   "cell_type": "code",
   "source": [
    "# Tuning du seuil de prédiction\n",
    "from sklearn.metrics import f1_score\n",
    "\n",
    "best_thresh = 0.5\n",
    "best_f1 = 0\n",
    "\n",
    "for threshold in np.arange(0.1, 0.9, 0.01):\n",
    "    y_pred = (y_pred_proba > threshold).astype(int)\n",
    "    f1 = f1_score(y_test_int, y_pred)\n",
    "\n",
    "    if f1 > best_f1:\n",
    "        best_f1 = f1\n",
    "        best_thresh = threshold\n",
    "\n",
    "print(f\"Seuil optimal = {best_thresh:.2f} avec F1-score = {best_f1:.4f}\")\n"
   ],
   "id": "7fc7f703f80c8a34",
   "outputs": [
    {
     "name": "stdout",
     "output_type": "stream",
     "text": [
      "Seuil optimal = 0.47 avec F1-score = 0.8971\n"
     ]
    }
   ],
   "execution_count": 14
  },
  {
   "metadata": {},
   "cell_type": "code",
   "outputs": [],
   "execution_count": null,
   "source": "",
   "id": "2c9a989f65d08d23"
  }
 ],
 "metadata": {},
 "nbformat": 4,
 "nbformat_minor": 5
}
